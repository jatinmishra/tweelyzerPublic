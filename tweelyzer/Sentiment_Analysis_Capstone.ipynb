{
 "cells": [
  {
   "cell_type": "markdown",
   "metadata": {},
   "source": [
    "# Applied Machine Learning and Data Science Internship 2020, IIT Kanpur.\n",
    "## Capstone Project\n",
    "## Tweets Sentiment Analysis"
   ]
  },
  {
   "cell_type": "markdown",
   "metadata": {},
   "source": [
    "### Introduction"
   ]
  },
  {
   "cell_type": "markdown",
   "metadata": {},
   "source": [
    "We will first start by importing some dependencies."
   ]
  },
  {
   "cell_type": "code",
   "execution_count": 1,
   "metadata": {},
   "outputs": [
    {
     "name": "stderr",
     "output_type": "stream",
     "text": [
      "Using TensorFlow backend.\n"
     ]
    }
   ],
   "source": [
    "import numpy as np\n",
    "import pandas as pd\n",
    "import matplotlib.pyplot as plt\n",
    "import seaborn as sns\n",
    "\n",
    "from nltk.corpus import stopwords\n",
    "stop_words = set(stopwords.words('english'))\n",
    "from wordcloud import WordCloud\n",
    "import re\n",
    "import string\n",
    "from nltk.tokenize import word_tokenize\n",
    "from nltk.stem.porter import PorterStemmer\n",
    "from textblob import TextBlob\n",
    "from bs4 import BeautifulSoup\n",
    "from collections import Counter\n",
    "\n",
    "from sklearn.model_selection import train_test_split\n",
    "from keras.preprocessing.text import Tokenizer\n",
    "from keras.preprocessing import sequence\n",
    "from sklearn.feature_extraction.text import CountVectorizer, TfidfVectorizer, TfidfTransformer\n",
    "\n",
    "from sklearn.naive_bayes import MultinomialNB\n",
    "from sklearn.naive_bayes import GaussianNB\n",
    "from sklearn.naive_bayes import BernoulliNB\n",
    "from sklearn.svm import SVC\n",
    "from sklearn.neural_network import MLPClassifier\n",
    "from sklearn.ensemble import AdaBoostClassifier\n",
    "from sklearn.tree import DecisionTreeClassifier\n",
    "from sklearn.ensemble import RandomForestClassifier\n",
    "from sklearn.ensemble import GradientBoostingClassifier\n",
    "from sklearn.linear_model import LogisticRegression\n",
    "from sklearn.linear_model import SGDClassifier\n",
    "from sklearn.pipeline import Pipeline\n",
    "\n",
    "\n",
    "import keras.backend as K\n",
    "from keras.models import Sequential\n",
    "from keras.layers import Dense, Embedding, Conv1D, MaxPooling1D, LSTM, Bidirectional, GRU, SimpleRNN, SpatialDropout1D, Dropout, GlobalMaxPooling1D\n",
    "from sklearn.metrics import accuracy_score,confusion_matrix,classification_report,f1_score\n",
    "\n",
    "import warnings\n",
    "warnings.filterwarnings(\"ignore\")\n"
   ]
  },
  {
   "cell_type": "markdown",
   "metadata": {},
   "source": [
    "### Loading Data"
   ]
  },
  {
   "cell_type": "markdown",
   "metadata": {},
   "source": [
    "##### Loading Training Data"
   ]
  },
  {
   "cell_type": "code",
   "execution_count": 2,
   "metadata": {},
   "outputs": [
    {
     "data": {
      "text/html": [
       "<div>\n",
       "<style scoped>\n",
       "    .dataframe tbody tr th:only-of-type {\n",
       "        vertical-align: middle;\n",
       "    }\n",
       "\n",
       "    .dataframe tbody tr th {\n",
       "        vertical-align: top;\n",
       "    }\n",
       "\n",
       "    .dataframe thead th {\n",
       "        text-align: right;\n",
       "    }\n",
       "</style>\n",
       "<table border=\"1\" class=\"dataframe\">\n",
       "  <thead>\n",
       "    <tr style=\"text-align: right;\">\n",
       "      <th></th>\n",
       "      <th>tweet_id</th>\n",
       "      <th>tweet_text</th>\n",
       "      <th>sentiment</th>\n",
       "    </tr>\n",
       "  </thead>\n",
       "  <tbody>\n",
       "    <tr>\n",
       "      <th>0</th>\n",
       "      <td>264183816548130816</td>\n",
       "      <td>Gas by my house hit $3.39!!!! I\\u2019m going to Chapel Hill on Sat. :)</td>\n",
       "      <td>positive</td>\n",
       "    </tr>\n",
       "    <tr>\n",
       "      <th>1</th>\n",
       "      <td>263405084770172928</td>\n",
       "      <td>Theo Walcott is still shit\\u002c watch Rafa and Johnny deal with him on Saturday.</td>\n",
       "      <td>negative</td>\n",
       "    </tr>\n",
       "    <tr>\n",
       "      <th>2</th>\n",
       "      <td>262163168678248449</td>\n",
       "      <td>its not that I\\u2019m a GSP fan\\u002c i just hate Nick Diaz. can\\u2019t wait for february.</td>\n",
       "      <td>negative</td>\n",
       "    </tr>\n",
       "    <tr>\n",
       "      <th>3</th>\n",
       "      <td>264249301910310912</td>\n",
       "      <td>Iranian general says Israel\\u2019s Iron Dome can\\u2019t deal with their missiles (keep talking like that and we may end up finding out)</td>\n",
       "      <td>negative</td>\n",
       "    </tr>\n",
       "    <tr>\n",
       "      <th>4</th>\n",
       "      <td>262682041215234048</td>\n",
       "      <td>Tehran\\u002c Mon Amour: Obama Tried to Establish Ties with the Mullahs http://t.co/TZZzrrKa via @PJMedia_com No Barack Obama - Vote Mitt Romney</td>\n",
       "      <td>neutral</td>\n",
       "    </tr>\n",
       "  </tbody>\n",
       "</table>\n",
       "</div>"
      ],
      "text/plain": [
       "             tweet_id  \\\n",
       "0  264183816548130816   \n",
       "1  263405084770172928   \n",
       "2  262163168678248449   \n",
       "3  264249301910310912   \n",
       "4  262682041215234048   \n",
       "\n",
       "                                                                                                                                        tweet_text  \\\n",
       "0                                                                           Gas by my house hit $3.39!!!! I\\u2019m going to Chapel Hill on Sat. :)   \n",
       "1                                                                Theo Walcott is still shit\\u002c watch Rafa and Johnny deal with him on Saturday.   \n",
       "2                                                       its not that I\\u2019m a GSP fan\\u002c i just hate Nick Diaz. can\\u2019t wait for february.   \n",
       "3          Iranian general says Israel\\u2019s Iron Dome can\\u2019t deal with their missiles (keep talking like that and we may end up finding out)   \n",
       "4  Tehran\\u002c Mon Amour: Obama Tried to Establish Ties with the Mullahs http://t.co/TZZzrrKa via @PJMedia_com No Barack Obama - Vote Mitt Romney   \n",
       "\n",
       "  sentiment  \n",
       "0  positive  \n",
       "1  negative  \n",
       "2  negative  \n",
       "3  negative  \n",
       "4   neutral  "
      ]
     },
     "execution_count": 2,
     "metadata": {},
     "output_type": "execute_result"
    }
   ],
   "source": [
    "train_df = pd.read_csv('train.txt')\n",
    "pd.set_option('display.max_colwidth', None)\n",
    "\n",
    "#reorder data\n",
    "train_df = train_df[['tweet_id', 'tweet_text', 'sentiment']]\n",
    "\n",
    "train_df.head()"
   ]
  },
  {
   "cell_type": "code",
   "execution_count": 83,
   "metadata": {},
   "outputs": [
    {
     "name": "stdout",
     "output_type": "stream",
     "text": [
      "<class 'pandas.core.frame.DataFrame'>\n",
      "RangeIndex: 21465 entries, 0 to 21464\n",
      "Data columns (total 3 columns):\n",
      " #   Column      Non-Null Count  Dtype \n",
      "---  ------      --------------  ----- \n",
      " 0   tweet_id    21465 non-null  int64 \n",
      " 1   tweet_text  21465 non-null  object\n",
      " 2   sentiment   21465 non-null  object\n",
      "dtypes: int64(1), object(2)\n",
      "memory usage: 503.2+ KB\n"
     ]
    }
   ],
   "source": [
    "train_df.info()"
   ]
  },
  {
   "cell_type": "markdown",
   "metadata": {},
   "source": [
    "##### Load test data."
   ]
  },
  {
   "cell_type": "code",
   "execution_count": 84,
   "metadata": {},
   "outputs": [
    {
     "data": {
      "text/html": [
       "<div>\n",
       "<style scoped>\n",
       "    .dataframe tbody tr th:only-of-type {\n",
       "        vertical-align: middle;\n",
       "    }\n",
       "\n",
       "    .dataframe tbody tr th {\n",
       "        vertical-align: top;\n",
       "    }\n",
       "\n",
       "    .dataframe thead th {\n",
       "        text-align: right;\n",
       "    }\n",
       "</style>\n",
       "<table border=\"1\" class=\"dataframe\">\n",
       "  <thead>\n",
       "    <tr style=\"text-align: right;\">\n",
       "      <th></th>\n",
       "      <th>tweet_id</th>\n",
       "      <th>tweet_text</th>\n",
       "    </tr>\n",
       "  </thead>\n",
       "  <tbody>\n",
       "    <tr>\n",
       "      <th>0</th>\n",
       "      <td>264238274963451904</td>\n",
       "      <td>@jjuueellzz down in the Atlantic city, ventnor, margate, ocean city area. I'm just waiting for the coordinator to hopefully call me tomorrow</td>\n",
       "    </tr>\n",
       "    <tr>\n",
       "      <th>1</th>\n",
       "      <td>218775148495515649</td>\n",
       "      <td>Musical awareness: Great Big Beautiful Tomorrow has an ending, Now is the time does not</td>\n",
       "    </tr>\n",
       "    <tr>\n",
       "      <th>2</th>\n",
       "      <td>258965201766998017</td>\n",
       "      <td>On Radio786 100.4fm 7:10 Fri Oct 19 Labour analyst Shawn Hattingh: Cosatu's role in the context of unrest in the mining http://t.co/46pjzzl6</td>\n",
       "    </tr>\n",
       "    <tr>\n",
       "      <th>3</th>\n",
       "      <td>262926411352903682</td>\n",
       "      <td>Kapan sih lo ngebuktiin,jan ngomong doang Susah Susah.usaha Aja blm udh nyerah,inget.if you never try you'll never know.cowok kok gentle bgt</td>\n",
       "    </tr>\n",
       "    <tr>\n",
       "      <th>4</th>\n",
       "      <td>171874368908050432</td>\n",
       "      <td>Excuse the connectivity of this live stream, from Baba Amr, so many activists using only one Sat Modem. LIVE http://t.co/U283IhZ5 #Homs</td>\n",
       "    </tr>\n",
       "  </tbody>\n",
       "</table>\n",
       "</div>"
      ],
      "text/plain": [
       "             tweet_id  \\\n",
       "0  264238274963451904   \n",
       "1  218775148495515649   \n",
       "2  258965201766998017   \n",
       "3  262926411352903682   \n",
       "4  171874368908050432   \n",
       "\n",
       "                                                                                                                                     tweet_text  \n",
       "0  @jjuueellzz down in the Atlantic city, ventnor, margate, ocean city area. I'm just waiting for the coordinator to hopefully call me tomorrow  \n",
       "1                                                       Musical awareness: Great Big Beautiful Tomorrow has an ending, Now is the time does not  \n",
       "2  On Radio786 100.4fm 7:10 Fri Oct 19 Labour analyst Shawn Hattingh: Cosatu's role in the context of unrest in the mining http://t.co/46pjzzl6  \n",
       "3  Kapan sih lo ngebuktiin,jan ngomong doang Susah Susah.usaha Aja blm udh nyerah,inget.if you never try you'll never know.cowok kok gentle bgt  \n",
       "4       Excuse the connectivity of this live stream, from Baba Amr, so many activists using only one Sat Modem. LIVE http://t.co/U283IhZ5 #Homs  "
      ]
     },
     "execution_count": 84,
     "metadata": {},
     "output_type": "execute_result"
    }
   ],
   "source": [
    "test_df = pd.read_csv('test_samples.txt')\n",
    "pd.set_option('display.max_colwidth', None)\n",
    "test_df.head()"
   ]
  },
  {
   "cell_type": "markdown",
   "metadata": {},
   "source": [
    "Let's see how the samples are distributed across the classes."
   ]
  },
  {
   "cell_type": "code",
   "execution_count": 85,
   "metadata": {},
   "outputs": [
    {
     "name": "stdout",
     "output_type": "stream",
     "text": [
      "positive    9064\n",
      "neutral     9014\n",
      "negative    3387\n",
      "Name: sentiment, dtype: int64\n"
     ]
    },
    {
     "data": {
      "text/plain": [
       "<matplotlib.axes._subplots.AxesSubplot at 0x23280162e48>"
      ]
     },
     "execution_count": 85,
     "metadata": {},
     "output_type": "execute_result"
    },
    {
     "data": {
      "image/png": "[encoded data removed]",
      "text/plain": [
       "<Figure size 432x288 with 1 Axes>"
      ]
     },
     "metadata": {
      "needs_background": "light"
     },
     "output_type": "display_data"
    }
   ],
   "source": [
    "print(train_df.sentiment.value_counts())\n",
    "sns.countplot(x = 'sentiment', data = train_df)"
   ]
  },
  {
   "cell_type": "markdown",
   "metadata": {},
   "source": [
    "From above graph we can see the data is not well balanced and the negative class having the least number of samples with only 3387 enteries where as the positive and neutral class hava almost same count of samples but they both are approx 2.8 times of negative class. This can lead to prediction favouring the majority classes and ignoring the minority class. We can come back to this later."
   ]
  },
  {
   "cell_type": "markdown",
   "metadata": {},
   "source": [
    "### Cleaning The Data"
   ]
  },
  {
   "cell_type": "markdown",
   "metadata": {},
   "source": [
    "Now we will preprocess or clean the data before we can perform prediction on it. We will follow the following order.\n",
    "\n",
    "1. Remove unicode characters\n",
    "2. Covert to lower case\n",
    "3. HTML decoding (removing &amp, etc)\n",
    "4. Remove Twitter mentions (@someone)\n",
    "5. Remove URLs (like https://... , http://....., www. )\n",
    "6. Remove stop words."
   ]
  },
  {
   "cell_type": "code",
   "execution_count": 3,
   "metadata": {},
   "outputs": [],
   "source": [
    "def tweet_text_cleaner(tweet):\n",
    "    tweet = tweet.encode('utf-8').decode('unicode_escape')\n",
    "    tweet = tweet.lower()\n",
    "    tweet = BeautifulSoup(tweet, 'lxml').getText()\n",
    "    tweet = re.sub(r'@[A-Za-z0-9]+', '', tweet)\n",
    "    tweet = re.sub('http?://[A-Za-z0-9./]+', '', tweet)\n",
    "    tweet = re.sub('https?://[A-Za-z0-9./]+','', tweet)\n",
    "    tweet = re.sub('www?.[A-Za-z0-9./]+', '', tweet)\n",
    "    tokens = word_tokenize(tweet)\n",
    "    tweet = [word for word in tokens if not word in stop_words and word.isalpha()]\n",
    "    return (\" \".join(tweet))"
   ]
  },
  {
   "cell_type": "markdown",
   "metadata": {},
   "source": [
    "We can test now if our cleaning function works as intended."
   ]
  },
  {
   "cell_type": "code",
   "execution_count": 88,
   "metadata": {},
   "outputs": [
    {
     "data": {
      "text/plain": [
       "0                                                                                          Gas by my house hit $3.39!!!! I\\u2019m going to Chapel Hill on Sat. :)\n",
       "1                                                                               Theo Walcott is still shit\\u002c watch Rafa and Johnny deal with him on Saturday.\n",
       "2                                                                      its not that I\\u2019m a GSP fan\\u002c i just hate Nick Diaz. can\\u2019t wait for february.\n",
       "3                         Iranian general says Israel\\u2019s Iron Dome can\\u2019t deal with their missiles (keep talking like that and we may end up finding out)\n",
       "4                 Tehran\\u002c Mon Amour: Obama Tried to Establish Ties with the Mullahs http://t.co/TZZzrrKa via @PJMedia_com No Barack Obama - Vote Mitt Romney\n",
       "5                                                                                      I sat through this whole movie just for Harry and Ron at christmas. ohlawd\n",
       "6                                 with J Davlar 11th. Main rivals are team Poland. Hopefully we an make it a successful end to a tough week of training tomorrow.\n",
       "7    Talking about ACT\\u2019s && SAT\\u2019s\\u002c deciding where I want to go to college\\u002c applying to colleges and everything about college stresses me out.\n",
       "8                                                            Why is \\\"\"Happy Valentines Day\\\"\" trending? It\\u2019s on the 14th of February not 12th of June smh..\n",
       "9                 They may have a SuperBowl in Dallas\\u002c but Dallas ain\\u2019t winning a SuperBowl. Not with that quarterback and owner. @S4NYC @RasmussenPoll\n",
       "Name: tweet_text, dtype: object"
      ]
     },
     "execution_count": 88,
     "metadata": {},
     "output_type": "execute_result"
    }
   ],
   "source": [
    "train_df.tweet_text[:10]"
   ]
  },
  {
   "cell_type": "code",
   "execution_count": 89,
   "metadata": {},
   "outputs": [
    {
     "data": {
      "text/plain": [
       "['gas house hit going chapel hill sat',\n",
       " 'theo walcott still shit watch rafa johnny deal saturday',\n",
       " 'gsp fan hate nick diaz wait february',\n",
       " 'iranian general says israel iron dome deal missiles keep talking like may end finding',\n",
       " 'tehran mon amour obama tried establish ties mullahs via barack obama vote mitt romney',\n",
       " 'sat whole movie harry ron christmas ohlawd',\n",
       " 'j davlar main rivals team poland hopefully make successful end tough week training tomorrow',\n",
       " 'talking act sat deciding want go college applying colleges everything college stresses',\n",
       " 'happy valentines day trending february june',\n",
       " 'may superbowl dallas dallas winning superbowl quarterback owner']"
      ]
     },
     "execution_count": 89,
     "metadata": {},
     "output_type": "execute_result"
    }
   ],
   "source": [
    "[tweet_text_cleaner(tweet) for tweet in train_df.tweet_text[:10]]"
   ]
  },
  {
   "cell_type": "markdown",
   "metadata": {},
   "source": [
    "Looks Good for now but preprocessing is never perfect :)\n",
    "Now we can save the cleaned tweets in a seperate column."
   ]
  },
  {
   "cell_type": "code",
   "execution_count": 4,
   "metadata": {},
   "outputs": [
    {
     "data": {
      "text/html": [
       "<div>\n",
       "<style scoped>\n",
       "    .dataframe tbody tr th:only-of-type {\n",
       "        vertical-align: middle;\n",
       "    }\n",
       "\n",
       "    .dataframe tbody tr th {\n",
       "        vertical-align: top;\n",
       "    }\n",
       "\n",
       "    .dataframe thead th {\n",
       "        text-align: right;\n",
       "    }\n",
       "</style>\n",
       "<table border=\"1\" class=\"dataframe\">\n",
       "  <thead>\n",
       "    <tr style=\"text-align: right;\">\n",
       "      <th></th>\n",
       "      <th>tweet_id</th>\n",
       "      <th>tweet_text</th>\n",
       "      <th>sentiment</th>\n",
       "      <th>clean_tweet</th>\n",
       "    </tr>\n",
       "  </thead>\n",
       "  <tbody>\n",
       "    <tr>\n",
       "      <th>0</th>\n",
       "      <td>264183816548130816</td>\n",
       "      <td>Gas by my house hit $3.39!!!! I\\u2019m going to Chapel Hill on Sat. :)</td>\n",
       "      <td>positive</td>\n",
       "      <td>gas house hit going chapel hill sat</td>\n",
       "    </tr>\n",
       "    <tr>\n",
       "      <th>1</th>\n",
       "      <td>263405084770172928</td>\n",
       "      <td>Theo Walcott is still shit\\u002c watch Rafa and Johnny deal with him on Saturday.</td>\n",
       "      <td>negative</td>\n",
       "      <td>theo walcott still shit watch rafa johnny deal saturday</td>\n",
       "    </tr>\n",
       "    <tr>\n",
       "      <th>2</th>\n",
       "      <td>262163168678248449</td>\n",
       "      <td>its not that I\\u2019m a GSP fan\\u002c i just hate Nick Diaz. can\\u2019t wait for february.</td>\n",
       "      <td>negative</td>\n",
       "      <td>gsp fan hate nick diaz wait february</td>\n",
       "    </tr>\n",
       "    <tr>\n",
       "      <th>3</th>\n",
       "      <td>264249301910310912</td>\n",
       "      <td>Iranian general says Israel\\u2019s Iron Dome can\\u2019t deal with their missiles (keep talking like that and we may end up finding out)</td>\n",
       "      <td>negative</td>\n",
       "      <td>iranian general says israel iron dome deal missiles keep talking like may end finding</td>\n",
       "    </tr>\n",
       "    <tr>\n",
       "      <th>4</th>\n",
       "      <td>262682041215234048</td>\n",
       "      <td>Tehran\\u002c Mon Amour: Obama Tried to Establish Ties with the Mullahs http://t.co/TZZzrrKa via @PJMedia_com No Barack Obama - Vote Mitt Romney</td>\n",
       "      <td>neutral</td>\n",
       "      <td>tehran mon amour obama tried establish ties mullahs via barack obama vote mitt romney</td>\n",
       "    </tr>\n",
       "  </tbody>\n",
       "</table>\n",
       "</div>"
      ],
      "text/plain": [
       "             tweet_id  \\\n",
       "0  264183816548130816   \n",
       "1  263405084770172928   \n",
       "2  262163168678248449   \n",
       "3  264249301910310912   \n",
       "4  262682041215234048   \n",
       "\n",
       "                                                                                                                                        tweet_text  \\\n",
       "0                                                                           Gas by my house hit $3.39!!!! I\\u2019m going to Chapel Hill on Sat. :)   \n",
       "1                                                                Theo Walcott is still shit\\u002c watch Rafa and Johnny deal with him on Saturday.   \n",
       "2                                                       its not that I\\u2019m a GSP fan\\u002c i just hate Nick Diaz. can\\u2019t wait for february.   \n",
       "3          Iranian general says Israel\\u2019s Iron Dome can\\u2019t deal with their missiles (keep talking like that and we may end up finding out)   \n",
       "4  Tehran\\u002c Mon Amour: Obama Tried to Establish Ties with the Mullahs http://t.co/TZZzrrKa via @PJMedia_com No Barack Obama - Vote Mitt Romney   \n",
       "\n",
       "  sentiment  \\\n",
       "0  positive   \n",
       "1  negative   \n",
       "2  negative   \n",
       "3  negative   \n",
       "4   neutral   \n",
       "\n",
       "                                                                             clean_tweet  \n",
       "0                                                    gas house hit going chapel hill sat  \n",
       "1                                theo walcott still shit watch rafa johnny deal saturday  \n",
       "2                                                   gsp fan hate nick diaz wait february  \n",
       "3  iranian general says israel iron dome deal missiles keep talking like may end finding  \n",
       "4  tehran mon amour obama tried establish ties mullahs via barack obama vote mitt romney  "
      ]
     },
     "execution_count": 4,
     "metadata": {},
     "output_type": "execute_result"
    }
   ],
   "source": [
    "train_df['clean_tweet'] = train_df['tweet_text'].apply(tweet_text_cleaner)\n",
    "train_df.head()"
   ]
  },
  {
   "cell_type": "markdown",
   "metadata": {},
   "source": [
    "A feature with character length of cleaned tweets will be good will be good."
   ]
  },
  {
   "cell_type": "code",
   "execution_count": 5,
   "metadata": {},
   "outputs": [
    {
     "data": {
      "text/plain": [
       "count    21465.000000\n",
       "mean        67.402888\n",
       "std         43.282333\n",
       "min          0.000000\n",
       "25%         53.000000\n",
       "50%         68.000000\n",
       "75%         81.000000\n",
       "max       3652.000000\n",
       "Name: text_length, dtype: float64"
      ]
     },
     "execution_count": 5,
     "metadata": {},
     "output_type": "execute_result"
    }
   ],
   "source": [
    "train_df['text_length'] = train_df['clean_tweet'].apply(len)\n",
    "train_df['text_length'].describe()"
   ]
  },
  {
   "cell_type": "markdown",
   "metadata": {},
   "source": [
    "This is a little bit strange we can see we have some tweets with 0 length and some with greater than 280 (previously 140) so we can safely remove the ones with length greater than 280."
   ]
  },
  {
   "cell_type": "code",
   "execution_count": 6,
   "metadata": {},
   "outputs": [],
   "source": [
    "train_df.drop(train_df.loc[train_df['text_length'] == 0].index, inplace = True)\n",
    "train_df.drop(train_df.loc[train_df['text_length'] > 280].index, inplace = True)"
   ]
  },
  {
   "cell_type": "code",
   "execution_count": 7,
   "metadata": {},
   "outputs": [
    {
     "data": {
      "text/plain": [
       "count    21458.000000\n",
       "mean        66.847003\n",
       "std         19.411252\n",
       "min          8.000000\n",
       "25%         53.000000\n",
       "50%         68.000000\n",
       "75%         81.000000\n",
       "max        132.000000\n",
       "Name: text_length, dtype: float64"
      ]
     },
     "execution_count": 7,
     "metadata": {},
     "output_type": "execute_result"
    }
   ],
   "source": [
    "train_df['text_length'].describe()"
   ]
  },
  {
   "cell_type": "markdown",
   "metadata": {},
   "source": [
    "##### Clean test data."
   ]
  },
  {
   "cell_type": "code",
   "execution_count": 94,
   "metadata": {},
   "outputs": [
    {
     "data": {
      "text/html": [
       "<div>\n",
       "<style scoped>\n",
       "    .dataframe tbody tr th:only-of-type {\n",
       "        vertical-align: middle;\n",
       "    }\n",
       "\n",
       "    .dataframe tbody tr th {\n",
       "        vertical-align: top;\n",
       "    }\n",
       "\n",
       "    .dataframe thead th {\n",
       "        text-align: right;\n",
       "    }\n",
       "</style>\n",
       "<table border=\"1\" class=\"dataframe\">\n",
       "  <thead>\n",
       "    <tr style=\"text-align: right;\">\n",
       "      <th></th>\n",
       "      <th>tweet_id</th>\n",
       "      <th>tweet_text</th>\n",
       "      <th>clean_tweet</th>\n",
       "    </tr>\n",
       "  </thead>\n",
       "  <tbody>\n",
       "    <tr>\n",
       "      <th>0</th>\n",
       "      <td>264238274963451904</td>\n",
       "      <td>@jjuueellzz down in the Atlantic city, ventnor, margate, ocean city area. I'm just waiting for the coordinator to hopefully call me tomorrow</td>\n",
       "      <td>atlantic city ventnor margate ocean city area waiting coordinator hopefully call tomorrow</td>\n",
       "    </tr>\n",
       "    <tr>\n",
       "      <th>1</th>\n",
       "      <td>218775148495515649</td>\n",
       "      <td>Musical awareness: Great Big Beautiful Tomorrow has an ending, Now is the time does not</td>\n",
       "      <td>musical awareness great big beautiful tomorrow ending time</td>\n",
       "    </tr>\n",
       "    <tr>\n",
       "      <th>2</th>\n",
       "      <td>258965201766998017</td>\n",
       "      <td>On Radio786 100.4fm 7:10 Fri Oct 19 Labour analyst Shawn Hattingh: Cosatu's role in the context of unrest in the mining http://t.co/46pjzzl6</td>\n",
       "      <td>fri oct labour analyst shawn hattingh cosatu role context unrest mining</td>\n",
       "    </tr>\n",
       "    <tr>\n",
       "      <th>3</th>\n",
       "      <td>262926411352903682</td>\n",
       "      <td>Kapan sih lo ngebuktiin,jan ngomong doang Susah Susah.usaha Aja blm udh nyerah,inget.if you never try you'll never know.cowok kok gentle bgt</td>\n",
       "      <td>kapan sih lo ngebuktiin jan ngomong doang susah aja blm udh nyerah never try never kok gentle bgt</td>\n",
       "    </tr>\n",
       "    <tr>\n",
       "      <th>4</th>\n",
       "      <td>171874368908050432</td>\n",
       "      <td>Excuse the connectivity of this live stream, from Baba Amr, so many activists using only one Sat Modem. LIVE http://t.co/U283IhZ5 #Homs</td>\n",
       "      <td>excuse connectivity live stream baba amr many activists using one sat modem live homs</td>\n",
       "    </tr>\n",
       "  </tbody>\n",
       "</table>\n",
       "</div>"
      ],
      "text/plain": [
       "             tweet_id  \\\n",
       "0  264238274963451904   \n",
       "1  218775148495515649   \n",
       "2  258965201766998017   \n",
       "3  262926411352903682   \n",
       "4  171874368908050432   \n",
       "\n",
       "                                                                                                                                     tweet_text  \\\n",
       "0  @jjuueellzz down in the Atlantic city, ventnor, margate, ocean city area. I'm just waiting for the coordinator to hopefully call me tomorrow   \n",
       "1                                                       Musical awareness: Great Big Beautiful Tomorrow has an ending, Now is the time does not   \n",
       "2  On Radio786 100.4fm 7:10 Fri Oct 19 Labour analyst Shawn Hattingh: Cosatu's role in the context of unrest in the mining http://t.co/46pjzzl6   \n",
       "3  Kapan sih lo ngebuktiin,jan ngomong doang Susah Susah.usaha Aja blm udh nyerah,inget.if you never try you'll never know.cowok kok gentle bgt   \n",
       "4       Excuse the connectivity of this live stream, from Baba Amr, so many activists using only one Sat Modem. LIVE http://t.co/U283IhZ5 #Homs   \n",
       "\n",
       "                                                                                         clean_tweet  \n",
       "0          atlantic city ventnor margate ocean city area waiting coordinator hopefully call tomorrow  \n",
       "1                                         musical awareness great big beautiful tomorrow ending time  \n",
       "2                            fri oct labour analyst shawn hattingh cosatu role context unrest mining  \n",
       "3  kapan sih lo ngebuktiin jan ngomong doang susah aja blm udh nyerah never try never kok gentle bgt  \n",
       "4              excuse connectivity live stream baba amr many activists using one sat modem live homs  "
      ]
     },
     "execution_count": 94,
     "metadata": {},
     "output_type": "execute_result"
    }
   ],
   "source": [
    "test_df['clean_tweet'] = test_df['tweet_text'].apply(tweet_text_cleaner)\n",
    "test_df.head()"
   ]
  },
  {
   "cell_type": "markdown",
   "metadata": {},
   "source": [
    "### Data Visualization"
   ]
  },
  {
   "cell_type": "markdown",
   "metadata": {},
   "source": [
    "We will start with WordCloud, looking most frequent words in each class."
   ]
  },
  {
   "cell_type": "markdown",
   "metadata": {},
   "source": [
    "#### WordCloud Neutral Cass"
   ]
  },
  {
   "cell_type": "code",
   "execution_count": 95,
   "metadata": {},
   "outputs": [
    {
     "data": {
      "image/png": "[encoded data removed]",
      "text/plain": [
       "<Figure size 864x864 with 1 Axes>"
      ]
     },
     "metadata": {
      "needs_background": "light"
     },
     "output_type": "display_data"
    }
   ],
   "source": [
    "neutral_df = train_df.loc[train_df['sentiment'] == 'neutral']\n",
    "neutral_df_text = neutral_df['clean_tweet'].to_string()\n",
    "wordcloud = WordCloud(\n",
    "    collocations=False,\n",
    "    relative_scaling=0.5,\n",
    "    stopwords=set(stopwords.words('english'))).generate(neutral_df_text)\n",
    "\n",
    "plt.figure(figsize=(12,12))\n",
    "plt.imshow(wordcloud)\n",
    "plt.axis(\"off\")\n",
    "plt.show()"
   ]
  },
  {
   "cell_type": "markdown",
   "metadata": {},
   "source": [
    "#### WordCloud Positive Class"
   ]
  },
  {
   "cell_type": "code",
   "execution_count": 96,
   "metadata": {},
   "outputs": [
    {
     "data": {
      "image/png": "[encoded data removed]",
      "text/plain": [
       "<Figure size 864x864 with 1 Axes>"
      ]
     },
     "metadata": {
      "needs_background": "light"
     },
     "output_type": "display_data"
    }
   ],
   "source": [
    "positive_df = train_df.loc[train_df['sentiment'] == 'positive']\n",
    "positive_df_text = neutral_df['clean_tweet'].to_string()\n",
    "wordcloud = WordCloud(\n",
    "    collocations=False,\n",
    "    relative_scaling=0.5,\n",
    "    stopwords=set(stopwords.words('english'))).generate(positive_df_text)\n",
    "\n",
    "plt.figure(figsize=(12,12))\n",
    "plt.imshow(wordcloud)\n",
    "plt.axis(\"off\")\n",
    "plt.show()"
   ]
  },
  {
   "cell_type": "markdown",
   "metadata": {},
   "source": [
    "#### WordCloud Negative Class"
   ]
  },
  {
   "cell_type": "code",
   "execution_count": 97,
   "metadata": {},
   "outputs": [
    {
     "data": {
      "image/png": "[encoded data removed]",
      "text/plain": [
       "<Figure size 864x864 with 1 Axes>"
      ]
     },
     "metadata": {
      "needs_background": "light"
     },
     "output_type": "display_data"
    }
   ],
   "source": [
    "negative_df = train_df.loc[train_df['sentiment'] == 'negative']\n",
    "negative_df_text = neutral_df['clean_tweet'].to_string()\n",
    "wordcloud = WordCloud(\n",
    "    collocations=False,\n",
    "    relative_scaling=0.5,\n",
    "    stopwords=set(stopwords.words('english'))).generate(negative_df_text)\n",
    "\n",
    "plt.figure(figsize=(12,12))\n",
    "plt.imshow(wordcloud)\n",
    "plt.axis(\"off\")\n",
    "plt.show()"
   ]
  },
  {
   "cell_type": "markdown",
   "metadata": {},
   "source": [
    "We can see words like 'tomorrow', 'may', 'day', 'game', 'friday', etc. are most common words in all three classes. Let us dive more into this."
   ]
  },
  {
   "cell_type": "markdown",
   "metadata": {},
   "source": [
    "We will now look at the words on the basis of term frequency in each class i.e how many times each word appears in each class. We will use CountVectorizer here to get the features and calculate term frequencies."
   ]
  },
  {
   "cell_type": "code",
   "execution_count": 98,
   "metadata": {},
   "outputs": [
    {
     "name": "stdout",
     "output_type": "stream",
     "text": [
      "Total features =  25972\n"
     ]
    }
   ],
   "source": [
    "count_vectorizer = CountVectorizer()\n",
    "count_vectorizer.fit(train_df.clean_tweet)\n",
    "print('Total features = ', len(count_vectorizer.get_feature_names()))"
   ]
  },
  {
   "cell_type": "markdown",
   "metadata": {},
   "source": [
    "We have got total 25972 words in our training data."
   ]
  },
  {
   "cell_type": "code",
   "execution_count": 99,
   "metadata": {},
   "outputs": [],
   "source": [
    "neutral_sentiment_mat = count_vectorizer.transform(train_df[train_df.sentiment == 'neutral'].clean_tweet)\n",
    "positive_sentiment_mat = count_vectorizer.transform(train_df[train_df.sentiment == 'positive'].clean_tweet)\n",
    "negative_sentiment_mat = count_vectorizer.transform(train_df[train_df.sentiment == 'negative'].clean_tweet)\n",
    "\n",
    "neutral_term_freq = np.sum(neutral_sentiment_mat, axis=0)\n",
    "postive_term_freq = np.sum(positive_sentiment_mat, axis=0)\n",
    "negative_term_freq = np.sum(negative_sentiment_mat, axis=0)\n",
    "\n",
    "neutral = np.squeeze(np.asarray(neutral_term_freq))\n",
    "positive = np.squeeze(np.asarray(postive_term_freq))\n",
    "negative = np.squeeze(np.asarray(negative_term_freq))\n",
    "\n",
    "term_freq_df = pd.DataFrame([neutral, positive, negative], columns = count_vectorizer.get_feature_names()).transpose()\n",
    "term_freq_df.columns = ['neutral', 'positive', 'negative']\n",
    "term_freq_df['total'] = term_freq_df['neutral'] + term_freq_df['negative'] + term_freq_df['positive']"
   ]
  },
  {
   "cell_type": "code",
   "execution_count": 100,
   "metadata": {},
   "outputs": [
    {
     "data": {
      "text/html": [
       "<div>\n",
       "<style scoped>\n",
       "    .dataframe tbody tr th:only-of-type {\n",
       "        vertical-align: middle;\n",
       "    }\n",
       "\n",
       "    .dataframe tbody tr th {\n",
       "        vertical-align: top;\n",
       "    }\n",
       "\n",
       "    .dataframe thead th {\n",
       "        text-align: right;\n",
       "    }\n",
       "</style>\n",
       "<table border=\"1\" class=\"dataframe\">\n",
       "  <thead>\n",
       "    <tr style=\"text-align: right;\">\n",
       "      <th></th>\n",
       "      <th>neutral</th>\n",
       "      <th>positive</th>\n",
       "      <th>negative</th>\n",
       "      <th>total</th>\n",
       "    </tr>\n",
       "  </thead>\n",
       "  <tbody>\n",
       "    <tr>\n",
       "      <th>tomorrow</th>\n",
       "      <td>1348</td>\n",
       "      <td>1733</td>\n",
       "      <td>464</td>\n",
       "      <td>3545</td>\n",
       "    </tr>\n",
       "    <tr>\n",
       "      <th>may</th>\n",
       "      <td>1108</td>\n",
       "      <td>1079</td>\n",
       "      <td>641</td>\n",
       "      <td>2828</td>\n",
       "    </tr>\n",
       "    <tr>\n",
       "      <th>day</th>\n",
       "      <td>609</td>\n",
       "      <td>897</td>\n",
       "      <td>232</td>\n",
       "      <td>1738</td>\n",
       "    </tr>\n",
       "    <tr>\n",
       "      <th>going</th>\n",
       "      <td>634</td>\n",
       "      <td>660</td>\n",
       "      <td>225</td>\n",
       "      <td>1519</td>\n",
       "    </tr>\n",
       "    <tr>\n",
       "      <th>night</th>\n",
       "      <td>579</td>\n",
       "      <td>707</td>\n",
       "      <td>174</td>\n",
       "      <td>1460</td>\n",
       "    </tr>\n",
       "    <tr>\n",
       "      <th>friday</th>\n",
       "      <td>531</td>\n",
       "      <td>584</td>\n",
       "      <td>130</td>\n",
       "      <td>1245</td>\n",
       "    </tr>\n",
       "    <tr>\n",
       "      <th>see</th>\n",
       "      <td>385</td>\n",
       "      <td>718</td>\n",
       "      <td>142</td>\n",
       "      <td>1245</td>\n",
       "    </tr>\n",
       "    <tr>\n",
       "      <th>like</th>\n",
       "      <td>409</td>\n",
       "      <td>473</td>\n",
       "      <td>276</td>\n",
       "      <td>1158</td>\n",
       "    </tr>\n",
       "    <tr>\n",
       "      <th>time</th>\n",
       "      <td>449</td>\n",
       "      <td>523</td>\n",
       "      <td>175</td>\n",
       "      <td>1147</td>\n",
       "    </tr>\n",
       "    <tr>\n",
       "      <th>game</th>\n",
       "      <td>524</td>\n",
       "      <td>456</td>\n",
       "      <td>154</td>\n",
       "      <td>1134</td>\n",
       "    </tr>\n",
       "  </tbody>\n",
       "</table>\n",
       "</div>"
      ],
      "text/plain": [
       "          neutral  positive  negative  total\n",
       "tomorrow     1348      1733       464   3545\n",
       "may          1108      1079       641   2828\n",
       "day           609       897       232   1738\n",
       "going         634       660       225   1519\n",
       "night         579       707       174   1460\n",
       "friday        531       584       130   1245\n",
       "see           385       718       142   1245\n",
       "like          409       473       276   1158\n",
       "time          449       523       175   1147\n",
       "game          524       456       154   1134"
      ]
     },
     "execution_count": 100,
     "metadata": {},
     "output_type": "execute_result"
    }
   ],
   "source": [
    "# Now we can check most frequent 10 words in all classes \n",
    "term_freq_df.sort_values(by='total', ascending=False).iloc[:10]"
   ]
  },
  {
   "cell_type": "code",
   "execution_count": 101,
   "metadata": {},
   "outputs": [
    {
     "data": {
      "text/html": [
       "<div>\n",
       "<style scoped>\n",
       "    .dataframe tbody tr th:only-of-type {\n",
       "        vertical-align: middle;\n",
       "    }\n",
       "\n",
       "    .dataframe tbody tr th {\n",
       "        vertical-align: top;\n",
       "    }\n",
       "\n",
       "    .dataframe thead th {\n",
       "        text-align: right;\n",
       "    }\n",
       "</style>\n",
       "<table border=\"1\" class=\"dataframe\">\n",
       "  <thead>\n",
       "    <tr style=\"text-align: right;\">\n",
       "      <th></th>\n",
       "      <th>neutral</th>\n",
       "      <th>positive</th>\n",
       "      <th>negative</th>\n",
       "      <th>total</th>\n",
       "    </tr>\n",
       "  </thead>\n",
       "  <tbody>\n",
       "    <tr>\n",
       "      <th>tomorrow</th>\n",
       "      <td>1348</td>\n",
       "      <td>1733</td>\n",
       "      <td>464</td>\n",
       "      <td>3545</td>\n",
       "    </tr>\n",
       "    <tr>\n",
       "      <th>may</th>\n",
       "      <td>1108</td>\n",
       "      <td>1079</td>\n",
       "      <td>641</td>\n",
       "      <td>2828</td>\n",
       "    </tr>\n",
       "    <tr>\n",
       "      <th>going</th>\n",
       "      <td>634</td>\n",
       "      <td>660</td>\n",
       "      <td>225</td>\n",
       "      <td>1519</td>\n",
       "    </tr>\n",
       "    <tr>\n",
       "      <th>day</th>\n",
       "      <td>609</td>\n",
       "      <td>897</td>\n",
       "      <td>232</td>\n",
       "      <td>1738</td>\n",
       "    </tr>\n",
       "    <tr>\n",
       "      <th>night</th>\n",
       "      <td>579</td>\n",
       "      <td>707</td>\n",
       "      <td>174</td>\n",
       "      <td>1460</td>\n",
       "    </tr>\n",
       "    <tr>\n",
       "      <th>friday</th>\n",
       "      <td>531</td>\n",
       "      <td>584</td>\n",
       "      <td>130</td>\n",
       "      <td>1245</td>\n",
       "    </tr>\n",
       "    <tr>\n",
       "      <th>game</th>\n",
       "      <td>524</td>\n",
       "      <td>456</td>\n",
       "      <td>154</td>\n",
       "      <td>1134</td>\n",
       "    </tr>\n",
       "    <tr>\n",
       "      <th>saturday</th>\n",
       "      <td>501</td>\n",
       "      <td>471</td>\n",
       "      <td>115</td>\n",
       "      <td>1087</td>\n",
       "    </tr>\n",
       "    <tr>\n",
       "      <th>sunday</th>\n",
       "      <td>479</td>\n",
       "      <td>500</td>\n",
       "      <td>138</td>\n",
       "      <td>1117</td>\n",
       "    </tr>\n",
       "    <tr>\n",
       "      <th>time</th>\n",
       "      <td>449</td>\n",
       "      <td>523</td>\n",
       "      <td>175</td>\n",
       "      <td>1147</td>\n",
       "    </tr>\n",
       "  </tbody>\n",
       "</table>\n",
       "</div>"
      ],
      "text/plain": [
       "          neutral  positive  negative  total\n",
       "tomorrow     1348      1733       464   3545\n",
       "may          1108      1079       641   2828\n",
       "going         634       660       225   1519\n",
       "day           609       897       232   1738\n",
       "night         579       707       174   1460\n",
       "friday        531       584       130   1245\n",
       "game          524       456       154   1134\n",
       "saturday      501       471       115   1087\n",
       "sunday        479       500       138   1117\n",
       "time          449       523       175   1147"
      ]
     },
     "execution_count": 101,
     "metadata": {},
     "output_type": "execute_result"
    }
   ],
   "source": [
    "# Now we can check most frequent 10 words in neutral classe \n",
    "term_freq_df.sort_values(by='neutral', ascending=False).iloc[:10]"
   ]
  },
  {
   "cell_type": "code",
   "execution_count": 102,
   "metadata": {},
   "outputs": [
    {
     "data": {
      "text/html": [
       "<div>\n",
       "<style scoped>\n",
       "    .dataframe tbody tr th:only-of-type {\n",
       "        vertical-align: middle;\n",
       "    }\n",
       "\n",
       "    .dataframe tbody tr th {\n",
       "        vertical-align: top;\n",
       "    }\n",
       "\n",
       "    .dataframe thead th {\n",
       "        text-align: right;\n",
       "    }\n",
       "</style>\n",
       "<table border=\"1\" class=\"dataframe\">\n",
       "  <thead>\n",
       "    <tr style=\"text-align: right;\">\n",
       "      <th></th>\n",
       "      <th>neutral</th>\n",
       "      <th>positive</th>\n",
       "      <th>negative</th>\n",
       "      <th>total</th>\n",
       "    </tr>\n",
       "  </thead>\n",
       "  <tbody>\n",
       "    <tr>\n",
       "      <th>tomorrow</th>\n",
       "      <td>1348</td>\n",
       "      <td>1733</td>\n",
       "      <td>464</td>\n",
       "      <td>3545</td>\n",
       "    </tr>\n",
       "    <tr>\n",
       "      <th>may</th>\n",
       "      <td>1108</td>\n",
       "      <td>1079</td>\n",
       "      <td>641</td>\n",
       "      <td>2828</td>\n",
       "    </tr>\n",
       "    <tr>\n",
       "      <th>day</th>\n",
       "      <td>609</td>\n",
       "      <td>897</td>\n",
       "      <td>232</td>\n",
       "      <td>1738</td>\n",
       "    </tr>\n",
       "    <tr>\n",
       "      <th>see</th>\n",
       "      <td>385</td>\n",
       "      <td>718</td>\n",
       "      <td>142</td>\n",
       "      <td>1245</td>\n",
       "    </tr>\n",
       "    <tr>\n",
       "      <th>night</th>\n",
       "      <td>579</td>\n",
       "      <td>707</td>\n",
       "      <td>174</td>\n",
       "      <td>1460</td>\n",
       "    </tr>\n",
       "    <tr>\n",
       "      <th>going</th>\n",
       "      <td>634</td>\n",
       "      <td>660</td>\n",
       "      <td>225</td>\n",
       "      <td>1519</td>\n",
       "    </tr>\n",
       "    <tr>\n",
       "      <th>good</th>\n",
       "      <td>84</td>\n",
       "      <td>589</td>\n",
       "      <td>72</td>\n",
       "      <td>745</td>\n",
       "    </tr>\n",
       "    <tr>\n",
       "      <th>friday</th>\n",
       "      <td>531</td>\n",
       "      <td>584</td>\n",
       "      <td>130</td>\n",
       "      <td>1245</td>\n",
       "    </tr>\n",
       "    <tr>\n",
       "      <th>time</th>\n",
       "      <td>449</td>\n",
       "      <td>523</td>\n",
       "      <td>175</td>\n",
       "      <td>1147</td>\n",
       "    </tr>\n",
       "    <tr>\n",
       "      <th>sunday</th>\n",
       "      <td>479</td>\n",
       "      <td>500</td>\n",
       "      <td>138</td>\n",
       "      <td>1117</td>\n",
       "    </tr>\n",
       "  </tbody>\n",
       "</table>\n",
       "</div>"
      ],
      "text/plain": [
       "          neutral  positive  negative  total\n",
       "tomorrow     1348      1733       464   3545\n",
       "may          1108      1079       641   2828\n",
       "day           609       897       232   1738\n",
       "see           385       718       142   1245\n",
       "night         579       707       174   1460\n",
       "going         634       660       225   1519\n",
       "good           84       589        72    745\n",
       "friday        531       584       130   1245\n",
       "time          449       523       175   1147\n",
       "sunday        479       500       138   1117"
      ]
     },
     "execution_count": 102,
     "metadata": {},
     "output_type": "execute_result"
    }
   ],
   "source": [
    "# Now we can check most frequent 10 words in poitive class\n",
    "term_freq_df.sort_values(by='positive', ascending=False).iloc[:10]"
   ]
  },
  {
   "cell_type": "code",
   "execution_count": 103,
   "metadata": {},
   "outputs": [
    {
     "data": {
      "text/html": [
       "<div>\n",
       "<style scoped>\n",
       "    .dataframe tbody tr th:only-of-type {\n",
       "        vertical-align: middle;\n",
       "    }\n",
       "\n",
       "    .dataframe tbody tr th {\n",
       "        vertical-align: top;\n",
       "    }\n",
       "\n",
       "    .dataframe thead th {\n",
       "        text-align: right;\n",
       "    }\n",
       "</style>\n",
       "<table border=\"1\" class=\"dataframe\">\n",
       "  <thead>\n",
       "    <tr style=\"text-align: right;\">\n",
       "      <th></th>\n",
       "      <th>neutral</th>\n",
       "      <th>positive</th>\n",
       "      <th>negative</th>\n",
       "      <th>total</th>\n",
       "    </tr>\n",
       "  </thead>\n",
       "  <tbody>\n",
       "    <tr>\n",
       "      <th>may</th>\n",
       "      <td>1108</td>\n",
       "      <td>1079</td>\n",
       "      <td>641</td>\n",
       "      <td>2828</td>\n",
       "    </tr>\n",
       "    <tr>\n",
       "      <th>tomorrow</th>\n",
       "      <td>1348</td>\n",
       "      <td>1733</td>\n",
       "      <td>464</td>\n",
       "      <td>3545</td>\n",
       "    </tr>\n",
       "    <tr>\n",
       "      <th>like</th>\n",
       "      <td>409</td>\n",
       "      <td>473</td>\n",
       "      <td>276</td>\n",
       "      <td>1158</td>\n",
       "    </tr>\n",
       "    <tr>\n",
       "      <th>day</th>\n",
       "      <td>609</td>\n",
       "      <td>897</td>\n",
       "      <td>232</td>\n",
       "      <td>1738</td>\n",
       "    </tr>\n",
       "    <tr>\n",
       "      <th>going</th>\n",
       "      <td>634</td>\n",
       "      <td>660</td>\n",
       "      <td>225</td>\n",
       "      <td>1519</td>\n",
       "    </tr>\n",
       "    <tr>\n",
       "      <th>get</th>\n",
       "      <td>435</td>\n",
       "      <td>459</td>\n",
       "      <td>193</td>\n",
       "      <td>1087</td>\n",
       "    </tr>\n",
       "    <tr>\n",
       "      <th>time</th>\n",
       "      <td>449</td>\n",
       "      <td>523</td>\n",
       "      <td>175</td>\n",
       "      <td>1147</td>\n",
       "    </tr>\n",
       "    <tr>\n",
       "      <th>night</th>\n",
       "      <td>579</td>\n",
       "      <td>707</td>\n",
       "      <td>174</td>\n",
       "      <td>1460</td>\n",
       "    </tr>\n",
       "    <tr>\n",
       "      <th>go</th>\n",
       "      <td>377</td>\n",
       "      <td>429</td>\n",
       "      <td>165</td>\n",
       "      <td>971</td>\n",
       "    </tr>\n",
       "    <tr>\n",
       "      <th>game</th>\n",
       "      <td>524</td>\n",
       "      <td>456</td>\n",
       "      <td>154</td>\n",
       "      <td>1134</td>\n",
       "    </tr>\n",
       "  </tbody>\n",
       "</table>\n",
       "</div>"
      ],
      "text/plain": [
       "          neutral  positive  negative  total\n",
       "may          1108      1079       641   2828\n",
       "tomorrow     1348      1733       464   3545\n",
       "like          409       473       276   1158\n",
       "day           609       897       232   1738\n",
       "going         634       660       225   1519\n",
       "get           435       459       193   1087\n",
       "time          449       523       175   1147\n",
       "night         579       707       174   1460\n",
       "go            377       429       165    971\n",
       "game          524       456       154   1134"
      ]
     },
     "execution_count": 103,
     "metadata": {},
     "output_type": "execute_result"
    }
   ],
   "source": [
    "# Now we can check most frequent 10 words in negative class \n",
    "term_freq_df.sort_values(by='negative', ascending=False).iloc[:10]"
   ]
  },
  {
   "cell_type": "markdown",
   "metadata": {},
   "source": [
    "### Setting up a baseline"
   ]
  },
  {
   "cell_type": "markdown",
   "metadata": {},
   "source": [
    "Before actually begining to create a model we should create a baseline so that we can know how better our models perform. We can use the python library Textblob for this task. In addition to providing great features like  part-of-speech tagging, noun phrase extraction, classification, etc it also provides a basic sentiment analysis feature which we can use for our baseline. Then senitment() function of the TextBlob library returns a polarity in range[-1, 1] where -1 being most neagtive and 1 being most positive. We will check using TextBlob to predict three classes 'neutral', 'postiive' and 'negative' classes on the test data and submitting on Kaggle to get mean F-score."
   ]
  },
  {
   "cell_type": "markdown",
   "metadata": {},
   "source": [
    "##### Get sentiment using TextBlob\n",
    "Here we will consider if the polarity is 0 it will be considered as 'neutral'. Below 0 considered as 'negative' and above 0 as 'positive' "
   ]
  },
  {
   "cell_type": "code",
   "execution_count": 104,
   "metadata": {},
   "outputs": [],
   "source": [
    "def get_tweet_sentiment(tweet): \n",
    "    ''' \n",
    "    Utility function to classify sentiment of passed tweet \n",
    "    using textblob's sentiment method \n",
    "    '''\n",
    "    # create TextBlob object of passed tweet text \n",
    "    analysis = TextBlob(tweet) \n",
    "    \n",
    "    # set sentiment \n",
    "    if analysis.sentiment.polarity > 0:\n",
    "        return 'positive'\n",
    "    elif analysis.sentiment.polarity == 0: \n",
    "        return 'neutral'\n",
    "    else: \n",
    "        return 'negative'"
   ]
  },
  {
   "cell_type": "code",
   "execution_count": 32,
   "metadata": {},
   "outputs": [
    {
     "data": {
      "text/html": [
       "<div>\n",
       "<style scoped>\n",
       "    .dataframe tbody tr th:only-of-type {\n",
       "        vertical-align: middle;\n",
       "    }\n",
       "\n",
       "    .dataframe tbody tr th {\n",
       "        vertical-align: top;\n",
       "    }\n",
       "\n",
       "    .dataframe thead th {\n",
       "        text-align: right;\n",
       "    }\n",
       "</style>\n",
       "<table border=\"1\" class=\"dataframe\">\n",
       "  <thead>\n",
       "    <tr style=\"text-align: right;\">\n",
       "      <th></th>\n",
       "      <th>tweet_id</th>\n",
       "      <th>tweet_text</th>\n",
       "      <th>clean_tweet</th>\n",
       "      <th>sentiment</th>\n",
       "    </tr>\n",
       "  </thead>\n",
       "  <tbody>\n",
       "    <tr>\n",
       "      <th>0</th>\n",
       "      <td>264238274963451904</td>\n",
       "      <td>@jjuueellzz down in the Atlantic city, ventnor, margate, ocean city area. I'm just waiting for the coordinator to hopefully call me tomorrow</td>\n",
       "      <td>atlantic city ventnor margate ocean city area im waiting coordinator hopefully call tomorrow</td>\n",
       "      <td>neutral</td>\n",
       "    </tr>\n",
       "    <tr>\n",
       "      <th>1</th>\n",
       "      <td>218775148495515649</td>\n",
       "      <td>Musical awareness: Great Big Beautiful Tomorrow has an ending, Now is the time does not</td>\n",
       "      <td>musical awareness great big beautiful tomorrow ending time</td>\n",
       "      <td>positive</td>\n",
       "    </tr>\n",
       "    <tr>\n",
       "      <th>2</th>\n",
       "      <td>258965201766998017</td>\n",
       "      <td>On Radio786 100.4fm 7:10 Fri Oct 19 Labour analyst Shawn Hattingh: Cosatu's role in the context of unrest in the mining http://t.co/46pjzzl6</td>\n",
       "      <td>fri oct labour analyst shawn hattingh cosatus role context unrest mining</td>\n",
       "      <td>neutral</td>\n",
       "    </tr>\n",
       "    <tr>\n",
       "      <th>3</th>\n",
       "      <td>262926411352903682</td>\n",
       "      <td>Kapan sih lo ngebuktiin,jan ngomong doang Susah Susah.usaha Aja blm udh nyerah,inget.if you never try you'll never know.cowok kok gentle bgt</td>\n",
       "      <td>kapan sih lo ngebuktiinjan ngomong doang susah susahusaha aja blm udh nyerahingetif never try youll never knowcowok kok gentle bgt</td>\n",
       "      <td>positive</td>\n",
       "    </tr>\n",
       "    <tr>\n",
       "      <th>4</th>\n",
       "      <td>171874368908050432</td>\n",
       "      <td>Excuse the connectivity of this live stream, from Baba Amr, so many activists using only one Sat Modem. LIVE http://t.co/U283IhZ5 #Homs</td>\n",
       "      <td>excuse connectivity live stream baba amr many activists using one sat modem live homs</td>\n",
       "      <td>positive</td>\n",
       "    </tr>\n",
       "  </tbody>\n",
       "</table>\n",
       "</div>"
      ],
      "text/plain": [
       "             tweet_id  \\\n",
       "0  264238274963451904   \n",
       "1  218775148495515649   \n",
       "2  258965201766998017   \n",
       "3  262926411352903682   \n",
       "4  171874368908050432   \n",
       "\n",
       "                                                                                                                                     tweet_text  \\\n",
       "0  @jjuueellzz down in the Atlantic city, ventnor, margate, ocean city area. I'm just waiting for the coordinator to hopefully call me tomorrow   \n",
       "1                                                       Musical awareness: Great Big Beautiful Tomorrow has an ending, Now is the time does not   \n",
       "2  On Radio786 100.4fm 7:10 Fri Oct 19 Labour analyst Shawn Hattingh: Cosatu's role in the context of unrest in the mining http://t.co/46pjzzl6   \n",
       "3  Kapan sih lo ngebuktiin,jan ngomong doang Susah Susah.usaha Aja blm udh nyerah,inget.if you never try you'll never know.cowok kok gentle bgt   \n",
       "4       Excuse the connectivity of this live stream, from Baba Amr, so many activists using only one Sat Modem. LIVE http://t.co/U283IhZ5 #Homs   \n",
       "\n",
       "                                                                                                                          clean_tweet  \\\n",
       "0                                        atlantic city ventnor margate ocean city area im waiting coordinator hopefully call tomorrow   \n",
       "1                                                                          musical awareness great big beautiful tomorrow ending time   \n",
       "2                                                            fri oct labour analyst shawn hattingh cosatus role context unrest mining   \n",
       "3  kapan sih lo ngebuktiinjan ngomong doang susah susahusaha aja blm udh nyerahingetif never try youll never knowcowok kok gentle bgt   \n",
       "4                                               excuse connectivity live stream baba amr many activists using one sat modem live homs   \n",
       "\n",
       "  sentiment  \n",
       "0   neutral  \n",
       "1  positive  \n",
       "2   neutral  \n",
       "3  positive  \n",
       "4  positive  "
      ]
     },
     "execution_count": 32,
     "metadata": {},
     "output_type": "execute_result"
    }
   ],
   "source": [
    "test_df['sentiment'] = test_df['clean_tweet'].apply(lambda x: get_tweet_sentiment(x))\n",
    "test_df.head()"
   ]
  },
  {
   "cell_type": "markdown",
   "metadata": {},
   "source": [
    "We will now prepare the submission file by exporting the above dataframe to a csv."
   ]
  },
  {
   "cell_type": "code",
   "execution_count": 33,
   "metadata": {},
   "outputs": [],
   "source": [
    "test_df = test_df.drop(['tweet_text', 'clean_tweet'], axis = 1) \n",
    "test_df.to_csv(r'submission.csv', index=None, mode='a')"
   ]
  },
  {
   "cell_type": "markdown",
   "metadata": {},
   "source": [
    "##### We got a mean F-score of .55210 using TextBlob\n",
    "This will be our baseline moving forward."
   ]
  },
  {
   "cell_type": "markdown",
   "metadata": {},
   "source": [
    "#### Traditional Machine Learning Classifiers\n",
    "\n",
    "Before moving on to building a complex neural network model using RNNs, LSTMs, CNNs, etc. we will first check how the algorithms like Logistic Regression, RandomForest, DecisionTree, etc. perform. We will use sklearn for their implementation."
   ]
  },
  {
   "cell_type": "markdown",
   "metadata": {},
   "source": [
    "We will split the training data into 80-20 that is we will use 80% as training data and 20% as validation data. "
   ]
  },
  {
   "cell_type": "code",
   "execution_count": 107,
   "metadata": {},
   "outputs": [],
   "source": [
    "X = train_df.clean_tweet\n",
    "y = train_df.sentiment\n",
    "X_train, X_val, y_train, y_val = train_test_split(X, y, test_size=0.2, random_state = 42)"
   ]
  },
  {
   "cell_type": "markdown",
   "metadata": {},
   "source": [
    "We will use following classifiers and compare their results."
   ]
  },
  {
   "cell_type": "code",
   "execution_count": 106,
   "metadata": {},
   "outputs": [],
   "source": [
    "classifiers = {\n",
    "    'ada': AdaBoostClassifier(),\n",
    "    'dtc': DecisionTreeClassifier(),\n",
    "    'rfc': RandomForestClassifier(),\n",
    "    'gbc': GradientBoostingClassifier(),\n",
    "    'lr': LogisticRegression()\n",
    "}"
   ]
  },
  {
   "cell_type": "code",
   "execution_count": 108,
   "metadata": {},
   "outputs": [],
   "source": [
    "f1_scores = dict()\n",
    "def evaluate_classifier(classifier):\n",
    "    pipe_line = Pipeline([('vect', TfidfVectorizer(stop_words=None, max_features=10000, ngram_range=(1, 3))),\n",
    "                ('clf',  classifier),\n",
    "               ])\n",
    "    pipe_line.fit(X_train, y_train)\n",
    "    y_pred = pipe_line.predict(X_val)\n",
    "\n",
    "    print(classifier)\n",
    "    f1_scores[classifier] = f1_score(y_pred, y_val, average='weighted')\n",
    "    print('Accuracy %s' % accuracy_score(y_pred, y_val))\n",
    "    print('F1-score %s' % f1_scores[classifier])\n",
    "    print(classification_report(y_val, y_pred))\n",
    "\n",
    "    confmat = confusion_matrix(y_val, y_pred)\n",
    "\n",
    "    fig, ax = plt.subplots(figsize=(4, 4))\n",
    "    ax.matshow(confmat, cmap=plt.cm.Blues, alpha=0.3)\n",
    "    for i in range(confmat.shape[0]):\n",
    "        for j in range(confmat.shape[1]):\n",
    "            ax.text(x=j, y=i, s=confmat[i, j], va='center', ha='center')\n",
    "    plt.title(classifier)\n",
    "    plt.xlabel('Predicted label')\n",
    "    plt.ylabel('True label')\n",
    "    plt.tight_layout()\n",
    "    return pipe_line"
   ]
  },
  {
   "cell_type": "code",
   "execution_count": 109,
   "metadata": {},
   "outputs": [
    {
     "name": "stdout",
     "output_type": "stream",
     "text": [
      "AdaBoostClassifier()\n",
      "Accuracy 0.5664026095060578\n",
      "F1-score 0.5966450875083971\n",
      "              precision    recall  f1-score   support\n",
      "\n",
      "    negative       0.49      0.19      0.27       642\n",
      "     neutral       0.51      0.88      0.64      1813\n",
      "    positive       0.78      0.39      0.52      1837\n",
      "\n",
      "    accuracy                           0.57      4292\n",
      "   macro avg       0.59      0.49      0.48      4292\n",
      "weighted avg       0.62      0.57      0.54      4292\n",
      "\n",
      "DecisionTreeClassifier()\n",
      "Accuracy 0.5563839701770736\n",
      "F1-score 0.5595117881186039\n",
      "              precision    recall  f1-score   support\n",
      "\n",
      "    negative       0.31      0.28      0.30       642\n",
      "     neutral       0.58      0.56      0.57      1813\n",
      "    positive       0.61      0.65      0.63      1837\n",
      "\n",
      "    accuracy                           0.56      4292\n",
      "   macro avg       0.50      0.50      0.50      4292\n",
      "weighted avg       0.55      0.56      0.55      4292\n",
      "\n",
      "RandomForestClassifier()\n",
      "Accuracy 0.6397949673811743\n",
      "F1-score 0.6577412663615481\n",
      "              precision    recall  f1-score   support\n",
      "\n",
      "    negative       0.63      0.21      0.31       642\n",
      "     neutral       0.60      0.75      0.67      1813\n",
      "    positive       0.69      0.69      0.69      1837\n",
      "\n",
      "    accuracy                           0.64      4292\n",
      "   macro avg       0.64      0.55      0.55      4292\n",
      "weighted avg       0.64      0.64      0.62      4292\n",
      "\n",
      "GradientBoostingClassifier()\n",
      "Accuracy 0.6109040074557316\n",
      "F1-score 0.6451295683526997\n",
      "              precision    recall  f1-score   support\n",
      "\n",
      "    negative       0.65      0.11      0.18       642\n",
      "     neutral       0.54      0.88      0.67      1813\n",
      "    positive       0.77      0.52      0.62      1837\n",
      "\n",
      "    accuracy                           0.61      4292\n",
      "   macro avg       0.66      0.50      0.49      4292\n",
      "weighted avg       0.66      0.61      0.58      4292\n",
      "\n",
      "LogisticRegression()\n",
      "Accuracy 0.6311742777260019\n",
      "F1-score 0.6451126185619539\n",
      "              precision    recall  f1-score   support\n",
      "\n",
      "    negative       0.54      0.23      0.32       642\n",
      "     neutral       0.60      0.70      0.65      1813\n",
      "    positive       0.68      0.70      0.69      1837\n",
      "\n",
      "    accuracy                           0.63      4292\n",
      "   macro avg       0.61      0.54      0.55      4292\n",
      "weighted avg       0.62      0.63      0.62      4292\n",
      "\n"
     ]
    },
    {
     "data": {
      "image/png": "[encoded data removed]",
      "text/plain": [
       "<Figure size 288x288 with 1 Axes>"
      ]
     },
     "metadata": {
      "needs_background": "light"
     },
     "output_type": "display_data"
    },
    {
     "data": {
      "image/png": "[encoded data removed]",
      "text/plain": [
       "<Figure size 288x288 with 1 Axes>"
      ]
     },
     "metadata": {
      "needs_background": "light"
     },
     "output_type": "display_data"
    },
    {
     "data": {
      "image/png": "[encoded data removed]",
      "text/plain": [
       "<Figure size 288x288 with 1 Axes>"
      ]
     },
     "metadata": {
      "needs_background": "light"
     },
     "output_type": "display_data"
    },
    {
     "data": {
      "image/png": "[encoded data removed]",
      "text/plain": [
       "<Figure size 288x288 with 1 Axes>"
      ]
     },
     "metadata": {
      "needs_background": "light"
     },
     "output_type": "display_data"
    },
    {
     "data": {
      "image/png": "[encoded data removed]",
      "text/plain": [
       "<Figure size 288x288 with 1 Axes>"
      ]
     },
     "metadata": {
      "needs_background": "light"
     },
     "output_type": "display_data"
    }
   ],
   "source": [
    "for classifier in classifiers:\n",
    "    evaluate_classifier(classifiers[classifier])"
   ]
  },
  {
   "cell_type": "code",
   "execution_count": 110,
   "metadata": {},
   "outputs": [
    {
     "data": {
      "text/plain": [
       "{AdaBoostClassifier(): 0.5966450875083971,\n",
       " DecisionTreeClassifier(): 0.5595117881186039,\n",
       " RandomForestClassifier(): 0.6577412663615481,\n",
       " GradientBoostingClassifier(): 0.6451295683526997,\n",
       " LogisticRegression(): 0.6451126185619539}"
      ]
     },
     "execution_count": 110,
     "metadata": {},
     "output_type": "execute_result"
    }
   ],
   "source": [
    "f1_scores"
   ]
  },
  {
   "cell_type": "markdown",
   "metadata": {},
   "source": [
    "We will try to use logistic regression on our test data and submit to kaggle. Also we have class imbalanace in our training data so we will use the in-built property of LogisticRegression() `class_weight` and set it to `balanced` and see how our model performs."
   ]
  },
  {
   "cell_type": "code",
   "execution_count": 111,
   "metadata": {},
   "outputs": [
    {
     "name": "stdout",
     "output_type": "stream",
     "text": [
      "LogisticRegression(class_weight='balanced')\n",
      "Accuracy 0.6123019571295434\n",
      "F1-score 0.6063476775862511\n",
      "              precision    recall  f1-score   support\n",
      "\n",
      "    negative       0.39      0.53      0.45       642\n",
      "     neutral       0.63      0.59      0.61      1813\n",
      "    positive       0.71      0.66      0.68      1837\n",
      "\n",
      "    accuracy                           0.61      4292\n",
      "   macro avg       0.58      0.60      0.58      4292\n",
      "weighted avg       0.63      0.61      0.62      4292\n",
      "\n"
     ]
    },
    {
     "data": {
      "image/png": "[encoded data removed]",
      "text/plain": [
       "<Figure size 288x288 with 1 Axes>"
      ]
     },
     "metadata": {
      "needs_background": "light"
     },
     "output_type": "display_data"
    }
   ],
   "source": [
    "lg_pipe_line = evaluate_classifier(LogisticRegression(class_weight = 'balanced'))"
   ]
  },
  {
   "cell_type": "code",
   "execution_count": 112,
   "metadata": {},
   "outputs": [
    {
     "data": {
      "text/html": [
       "<div>\n",
       "<style scoped>\n",
       "    .dataframe tbody tr th:only-of-type {\n",
       "        vertical-align: middle;\n",
       "    }\n",
       "\n",
       "    .dataframe tbody tr th {\n",
       "        vertical-align: top;\n",
       "    }\n",
       "\n",
       "    .dataframe thead th {\n",
       "        text-align: right;\n",
       "    }\n",
       "</style>\n",
       "<table border=\"1\" class=\"dataframe\">\n",
       "  <thead>\n",
       "    <tr style=\"text-align: right;\">\n",
       "      <th></th>\n",
       "      <th>tweet_id</th>\n",
       "      <th>tweet_text</th>\n",
       "      <th>clean_tweet</th>\n",
       "      <th>sentiment</th>\n",
       "    </tr>\n",
       "  </thead>\n",
       "  <tbody>\n",
       "    <tr>\n",
       "      <th>0</th>\n",
       "      <td>264238274963451904</td>\n",
       "      <td>@jjuueellzz down in the Atlantic city, ventnor, margate, ocean city area. I'm just waiting for the coordinator to hopefully call me tomorrow</td>\n",
       "      <td>atlantic city ventnor margate ocean city area waiting coordinator hopefully call tomorrow</td>\n",
       "      <td>neutral</td>\n",
       "    </tr>\n",
       "    <tr>\n",
       "      <th>1</th>\n",
       "      <td>218775148495515649</td>\n",
       "      <td>Musical awareness: Great Big Beautiful Tomorrow has an ending, Now is the time does not</td>\n",
       "      <td>musical awareness great big beautiful tomorrow ending time</td>\n",
       "      <td>positive</td>\n",
       "    </tr>\n",
       "    <tr>\n",
       "      <th>2</th>\n",
       "      <td>258965201766998017</td>\n",
       "      <td>On Radio786 100.4fm 7:10 Fri Oct 19 Labour analyst Shawn Hattingh: Cosatu's role in the context of unrest in the mining http://t.co/46pjzzl6</td>\n",
       "      <td>fri oct labour analyst shawn hattingh cosatu role context unrest mining</td>\n",
       "      <td>neutral</td>\n",
       "    </tr>\n",
       "    <tr>\n",
       "      <th>3</th>\n",
       "      <td>262926411352903682</td>\n",
       "      <td>Kapan sih lo ngebuktiin,jan ngomong doang Susah Susah.usaha Aja blm udh nyerah,inget.if you never try you'll never know.cowok kok gentle bgt</td>\n",
       "      <td>kapan sih lo ngebuktiin jan ngomong doang susah aja blm udh nyerah never try never kok gentle bgt</td>\n",
       "      <td>negative</td>\n",
       "    </tr>\n",
       "    <tr>\n",
       "      <th>4</th>\n",
       "      <td>171874368908050432</td>\n",
       "      <td>Excuse the connectivity of this live stream, from Baba Amr, so many activists using only one Sat Modem. LIVE http://t.co/U283IhZ5 #Homs</td>\n",
       "      <td>excuse connectivity live stream baba amr many activists using one sat modem live homs</td>\n",
       "      <td>neutral</td>\n",
       "    </tr>\n",
       "  </tbody>\n",
       "</table>\n",
       "</div>"
      ],
      "text/plain": [
       "             tweet_id  \\\n",
       "0  264238274963451904   \n",
       "1  218775148495515649   \n",
       "2  258965201766998017   \n",
       "3  262926411352903682   \n",
       "4  171874368908050432   \n",
       "\n",
       "                                                                                                                                     tweet_text  \\\n",
       "0  @jjuueellzz down in the Atlantic city, ventnor, margate, ocean city area. I'm just waiting for the coordinator to hopefully call me tomorrow   \n",
       "1                                                       Musical awareness: Great Big Beautiful Tomorrow has an ending, Now is the time does not   \n",
       "2  On Radio786 100.4fm 7:10 Fri Oct 19 Labour analyst Shawn Hattingh: Cosatu's role in the context of unrest in the mining http://t.co/46pjzzl6   \n",
       "3  Kapan sih lo ngebuktiin,jan ngomong doang Susah Susah.usaha Aja blm udh nyerah,inget.if you never try you'll never know.cowok kok gentle bgt   \n",
       "4       Excuse the connectivity of this live stream, from Baba Amr, so many activists using only one Sat Modem. LIVE http://t.co/U283IhZ5 #Homs   \n",
       "\n",
       "                                                                                         clean_tweet  \\\n",
       "0          atlantic city ventnor margate ocean city area waiting coordinator hopefully call tomorrow   \n",
       "1                                         musical awareness great big beautiful tomorrow ending time   \n",
       "2                            fri oct labour analyst shawn hattingh cosatu role context unrest mining   \n",
       "3  kapan sih lo ngebuktiin jan ngomong doang susah aja blm udh nyerah never try never kok gentle bgt   \n",
       "4              excuse connectivity live stream baba amr many activists using one sat modem live homs   \n",
       "\n",
       "  sentiment  \n",
       "0   neutral  \n",
       "1  positive  \n",
       "2   neutral  \n",
       "3  negative  \n",
       "4   neutral  "
      ]
     },
     "execution_count": 112,
     "metadata": {},
     "output_type": "execute_result"
    }
   ],
   "source": [
    "test_df['sentiment'] = lg_pipe_line.predict(test_df['clean_tweet'])\n",
    "test_df.head()"
   ]
  },
  {
   "cell_type": "code",
   "execution_count": 46,
   "metadata": {},
   "outputs": [],
   "source": [
    "test_df = test_df.drop(['tweet_text', 'clean_tweet'], axis = 1) \n",
    "test_df.to_csv(r'submission.csv', index=None, mode='a')"
   ]
  },
  {
   "cell_type": "markdown",
   "metadata": {},
   "source": [
    "##### We got a mean F-score of .65076 using LogisticRegression which is an improvement from TextBlob having a mean F-score of .55210"
   ]
  },
  {
   "cell_type": "markdown",
   "metadata": {},
   "source": [
    "### Handling Imbalanced data"
   ]
  },
  {
   "cell_type": "code",
   "execution_count": 113,
   "metadata": {},
   "outputs": [
    {
     "name": "stdout",
     "output_type": "stream",
     "text": [
      "positive    9059\n",
      "neutral     9012\n",
      "negative    3387\n",
      "Name: sentiment, dtype: int64\n"
     ]
    },
    {
     "data": {
      "text/plain": [
       "<matplotlib.axes._subplots.AxesSubplot at 0x232ccccb608>"
      ]
     },
     "execution_count": 113,
     "metadata": {},
     "output_type": "execute_result"
    },
    {
     "data": {
      "image/png": "[encoded data removed]",
      "text/plain": [
       "<Figure size 432x288 with 1 Axes>"
      ]
     },
     "metadata": {
      "needs_background": "light"
     },
     "output_type": "display_data"
    }
   ],
   "source": [
    "print(train_df.sentiment.value_counts())\n",
    "sns.countplot(x = 'sentiment', data = train_df)"
   ]
  },
  {
   "cell_type": "markdown",
   "metadata": {},
   "source": [
    "From the above graph we can say that we have class imbalance in our training data i.e the 'neagtive' class is nearly 1/3 of the other two classes 'positive' and 'negative'. This can lead to the model ignoring the minority class and favouring the majority class with greater number of samples. <br>\n",
    "Here we will try OverSampling our data using the following two techniques. <br>\n",
    "    1. RandomOverSampler <br>\n",
    "    2. SMOTE (Synthetic Minority Over-Sampling Technique) \n",
    "<br>\n",
    "We will use a python library called `imblearn` to get these done."
   ]
  },
  {
   "cell_type": "code",
   "execution_count": 9,
   "metadata": {},
   "outputs": [],
   "source": [
    "from imblearn.pipeline import make_pipeline\n",
    "from imblearn.over_sampling import ADASYN, SMOTE, RandomOverSampler"
   ]
  },
  {
   "cell_type": "markdown",
   "metadata": {},
   "source": [
    "Random over-sampling is simply a process of repeating some samples of the minority class and balance the number of samples between classes in the dataset."
   ]
  },
  {
   "cell_type": "code",
   "execution_count": 21,
   "metadata": {},
   "outputs": [],
   "source": [
    "X = train_df.clean_tweet\n",
    "y = train_df.sentiment\n",
    "X_train, X_val, y_train, y_val = train_test_split(X, y, test_size=0.2, random_state = 1000)\n",
    "tf_idf_vec = TfidfVectorizer(stop_words=None, max_features=40000, ngram_range=(1, 3))\n",
    "log_reg_cls = LogisticRegression()\n",
    "rand_over_sample_pipeline = make_pipeline(tf_idf_vec, RandomOverSampler(random_state=1000), log_reg_cls)"
   ]
  },
  {
   "cell_type": "code",
   "execution_count": 22,
   "metadata": {},
   "outputs": [
    {
     "name": "stdout",
     "output_type": "stream",
     "text": [
      "Accuracy 0.619990680335508\n",
      "F1-score 0.618184541125921\n",
      "              precision    recall  f1-score   support\n",
      "\n",
      "    negative       0.46      0.52      0.49       699\n",
      "     neutral       0.62      0.61      0.62      1798\n",
      "    positive       0.69      0.67      0.68      1795\n",
      "\n",
      "    accuracy                           0.62      4292\n",
      "   macro avg       0.59      0.60      0.59      4292\n",
      "weighted avg       0.62      0.62      0.62      4292\n",
      "\n"
     ]
    },
    {
     "data": {
      "image/png": "[encoded data removed]",
      "text/plain": [
       "<Figure size 288x288 with 1 Axes>"
      ]
     },
     "metadata": {
      "needs_background": "light"
     },
     "output_type": "display_data"
    }
   ],
   "source": [
    "rand_over_sample_pipeline.fit(X_train, y_train)\n",
    "y_pred = rand_over_sample_pipeline.predict(X_val)\n",
    "\n",
    "f1_s = f1_score(y_pred, y_val, average='weighted')\n",
    "print('Accuracy %s' % accuracy_score(y_pred, y_val))\n",
    "print('F1-score %s' % f1_s)\n",
    "print(classification_report(y_val, y_pred))\n",
    "\n",
    "confmat = confusion_matrix(y_val, y_pred)\n",
    "\n",
    "fig, ax = plt.subplots(figsize=(4, 4))\n",
    "ax.matshow(confmat, cmap=plt.cm.Blues, alpha=0.3)\n",
    "for i in range(confmat.shape[0]):\n",
    "    for j in range(confmat.shape[1]):\n",
    "        ax.text(x=j, y=i, s=confmat[i, j], va='center', ha='center')\n",
    "plt.title(\"Random Over Sampling\")\n",
    "plt.xlabel('Predicted label')\n",
    "plt.ylabel('True label')\n",
    "plt.tight_layout()"
   ]
  },
  {
   "cell_type": "markdown",
   "metadata": {},
   "source": [
    "We got a F1-score of 0.6235 which is slightly better than our LogisticRegression Model, lets see how it perform on test data."
   ]
  },
  {
   "cell_type": "code",
   "execution_count": 30,
   "metadata": {},
   "outputs": [
    {
     "data": {
      "text/html": [
       "<div>\n",
       "<style scoped>\n",
       "    .dataframe tbody tr th:only-of-type {\n",
       "        vertical-align: middle;\n",
       "    }\n",
       "\n",
       "    .dataframe tbody tr th {\n",
       "        vertical-align: top;\n",
       "    }\n",
       "\n",
       "    .dataframe thead th {\n",
       "        text-align: right;\n",
       "    }\n",
       "</style>\n",
       "<table border=\"1\" class=\"dataframe\">\n",
       "  <thead>\n",
       "    <tr style=\"text-align: right;\">\n",
       "      <th></th>\n",
       "      <th>tweet_id</th>\n",
       "      <th>tweet_text</th>\n",
       "      <th>clean_tweet</th>\n",
       "      <th>sentiment</th>\n",
       "    </tr>\n",
       "  </thead>\n",
       "  <tbody>\n",
       "    <tr>\n",
       "      <th>0</th>\n",
       "      <td>264238274963451904</td>\n",
       "      <td>@jjuueellzz down in the Atlantic city, ventnor, margate, ocean city area. I'm just waiting for the coordinator to hopefully call me tomorrow</td>\n",
       "      <td>down in the atlantic city ventnor margate ocean city area im just waiting for the coordinator to hopefully call me tomorrow</td>\n",
       "      <td>positive</td>\n",
       "    </tr>\n",
       "    <tr>\n",
       "      <th>1</th>\n",
       "      <td>218775148495515649</td>\n",
       "      <td>Musical awareness: Great Big Beautiful Tomorrow has an ending, Now is the time does not</td>\n",
       "      <td>musical awareness great big beautiful tomorrow has an ending now is the time does not</td>\n",
       "      <td>positive</td>\n",
       "    </tr>\n",
       "    <tr>\n",
       "      <th>2</th>\n",
       "      <td>258965201766998017</td>\n",
       "      <td>On Radio786 100.4fm 7:10 Fri Oct 19 Labour analyst Shawn Hattingh: Cosatu's role in the context of unrest in the mining http://t.co/46pjzzl6</td>\n",
       "      <td>on fri oct labour analyst shawn hattingh cosatus role in the context of unrest in the mining</td>\n",
       "      <td>neutral</td>\n",
       "    </tr>\n",
       "    <tr>\n",
       "      <th>3</th>\n",
       "      <td>262926411352903682</td>\n",
       "      <td>Kapan sih lo ngebuktiin,jan ngomong doang Susah Susah.usaha Aja blm udh nyerah,inget.if you never try you'll never know.cowok kok gentle bgt</td>\n",
       "      <td>kapan sih lo ngebuktiinjan ngomong doang susah susahusaha aja blm udh nyerahingetif you never try youll never knowcowok kok gentle bgt</td>\n",
       "      <td>negative</td>\n",
       "    </tr>\n",
       "    <tr>\n",
       "      <th>4</th>\n",
       "      <td>171874368908050432</td>\n",
       "      <td>Excuse the connectivity of this live stream, from Baba Amr, so many activists using only one Sat Modem. LIVE http://t.co/U283IhZ5 #Homs</td>\n",
       "      <td>excuse the connectivity of this live stream from baba amr so many activists using only one sat modem live homs</td>\n",
       "      <td>neutral</td>\n",
       "    </tr>\n",
       "  </tbody>\n",
       "</table>\n",
       "</div>"
      ],
      "text/plain": [
       "             tweet_id  \\\n",
       "0  264238274963451904   \n",
       "1  218775148495515649   \n",
       "2  258965201766998017   \n",
       "3  262926411352903682   \n",
       "4  171874368908050432   \n",
       "\n",
       "                                                                                                                                     tweet_text  \\\n",
       "0  @jjuueellzz down in the Atlantic city, ventnor, margate, ocean city area. I'm just waiting for the coordinator to hopefully call me tomorrow   \n",
       "1                                                       Musical awareness: Great Big Beautiful Tomorrow has an ending, Now is the time does not   \n",
       "2  On Radio786 100.4fm 7:10 Fri Oct 19 Labour analyst Shawn Hattingh: Cosatu's role in the context of unrest in the mining http://t.co/46pjzzl6   \n",
       "3  Kapan sih lo ngebuktiin,jan ngomong doang Susah Susah.usaha Aja blm udh nyerah,inget.if you never try you'll never know.cowok kok gentle bgt   \n",
       "4       Excuse the connectivity of this live stream, from Baba Amr, so many activists using only one Sat Modem. LIVE http://t.co/U283IhZ5 #Homs   \n",
       "\n",
       "                                                                                                                              clean_tweet  \\\n",
       "0             down in the atlantic city ventnor margate ocean city area im just waiting for the coordinator to hopefully call me tomorrow   \n",
       "1                                                   musical awareness great big beautiful tomorrow has an ending now is the time does not   \n",
       "2                                            on fri oct labour analyst shawn hattingh cosatus role in the context of unrest in the mining   \n",
       "3  kapan sih lo ngebuktiinjan ngomong doang susah susahusaha aja blm udh nyerahingetif you never try youll never knowcowok kok gentle bgt   \n",
       "4                          excuse the connectivity of this live stream from baba amr so many activists using only one sat modem live homs   \n",
       "\n",
       "  sentiment  \n",
       "0  positive  \n",
       "1  positive  \n",
       "2   neutral  \n",
       "3  negative  \n",
       "4   neutral  "
      ]
     },
     "execution_count": 30,
     "metadata": {},
     "output_type": "execute_result"
    }
   ],
   "source": [
    "test_df['sentiment'] = rand_over_sample_pipeline.predict(test_df['clean_tweet'])\n",
    "test_df.head()"
   ]
  },
  {
   "cell_type": "code",
   "execution_count": 104,
   "metadata": {},
   "outputs": [],
   "source": [
    "test_df = test_df.drop(['tweet_text', 'clean_tweet'], axis = 1) \n",
    "test_df.to_csv(r'submission.csv', index=None, mode='a')"
   ]
  },
  {
   "cell_type": "markdown",
   "metadata": {},
   "source": [
    "##### We got a mean F-score of .65145 which is slightly better than .65076 of LogisticRegression."
   ]
  },
  {
   "cell_type": "markdown",
   "metadata": {},
   "source": [
    "Lets move on to SMOTE"
   ]
  },
  {
   "cell_type": "code",
   "execution_count": 12,
   "metadata": {},
   "outputs": [],
   "source": [
    "smote_pipeline = make_pipeline(tf_idf_vec, SMOTE(random_state=1000), log_reg_cls)"
   ]
  },
  {
   "cell_type": "code",
   "execution_count": 15,
   "metadata": {},
   "outputs": [
    {
     "name": "stdout",
     "output_type": "stream",
     "text": [
      "Accuracy 0.6178937558247903\n",
      "F1-score 0.6138588459662743\n",
      "              precision    recall  f1-score   support\n",
      "\n",
      "    negative       0.40      0.51      0.45       642\n",
      "     neutral       0.62      0.60      0.61      1813\n",
      "    positive       0.71      0.67      0.69      1837\n",
      "\n",
      "    accuracy                           0.62      4292\n",
      "   macro avg       0.58      0.59      0.58      4292\n",
      "weighted avg       0.63      0.62      0.62      4292\n",
      "\n"
     ]
    },
    {
     "data": {
      "image/png": "[encoded data removed]",
      "text/plain": [
       "<Figure size 288x288 with 1 Axes>"
      ]
     },
     "metadata": {
      "needs_background": "light"
     },
     "output_type": "display_data"
    }
   ],
   "source": [
    "smote_pipeline.fit(X_train, y_train)\n",
    "y_pred = smote_pipeline.predict(X_val)\n",
    "\n",
    "f1_s = f1_score(y_pred, y_val, average='weighted')\n",
    "print('Accuracy %s' % accuracy_score(y_pred, y_val))\n",
    "print('F1-score %s' % f1_s)\n",
    "print(classification_report(y_val, y_pred))\n",
    "\n",
    "confmat = confusion_matrix(y_val, y_pred)\n",
    "\n",
    "fig, ax = plt.subplots(figsize=(4, 4))\n",
    "ax.matshow(confmat, cmap=plt.cm.Blues, alpha=0.3)\n",
    "for i in range(confmat.shape[0]):\n",
    "    for j in range(confmat.shape[1]):\n",
    "        ax.text(x=j, y=i, s=confmat[i, j], va='center', ha='center')\n",
    "plt.title(\"SMOTE (Synthetic Minority Over-Sampling Technique)\")\n",
    "plt.xlabel('Predicted label')\n",
    "plt.ylabel('True label')\n",
    "plt.tight_layout()"
   ]
  },
  {
   "cell_type": "markdown",
   "metadata": {},
   "source": [
    "We got a F1-score of 0.6242 which is slightly better than our Random Over Sampler Model, lets see how it perform on test data."
   ]
  },
  {
   "cell_type": "code",
   "execution_count": 34,
   "metadata": {},
   "outputs": [
    {
     "data": {
      "text/html": [
       "<div>\n",
       "<style scoped>\n",
       "    .dataframe tbody tr th:only-of-type {\n",
       "        vertical-align: middle;\n",
       "    }\n",
       "\n",
       "    .dataframe tbody tr th {\n",
       "        vertical-align: top;\n",
       "    }\n",
       "\n",
       "    .dataframe thead th {\n",
       "        text-align: right;\n",
       "    }\n",
       "</style>\n",
       "<table border=\"1\" class=\"dataframe\">\n",
       "  <thead>\n",
       "    <tr style=\"text-align: right;\">\n",
       "      <th></th>\n",
       "      <th>tweet_id</th>\n",
       "      <th>tweet_text</th>\n",
       "      <th>clean_tweet</th>\n",
       "      <th>sentiment</th>\n",
       "    </tr>\n",
       "  </thead>\n",
       "  <tbody>\n",
       "    <tr>\n",
       "      <th>0</th>\n",
       "      <td>264238274963451904</td>\n",
       "      <td>@jjuueellzz down in the Atlantic city, ventnor, margate, ocean city area. I'm just waiting for the coordinator to hopefully call me tomorrow</td>\n",
       "      <td>down in the atlantic city ventnor margate ocean city area im just waiting for the coordinator to hopefully call me tomorrow</td>\n",
       "      <td>negative</td>\n",
       "    </tr>\n",
       "    <tr>\n",
       "      <th>1</th>\n",
       "      <td>218775148495515649</td>\n",
       "      <td>Musical awareness: Great Big Beautiful Tomorrow has an ending, Now is the time does not</td>\n",
       "      <td>musical awareness great big beautiful tomorrow has an ending now is the time does not</td>\n",
       "      <td>positive</td>\n",
       "    </tr>\n",
       "    <tr>\n",
       "      <th>2</th>\n",
       "      <td>258965201766998017</td>\n",
       "      <td>On Radio786 100.4fm 7:10 Fri Oct 19 Labour analyst Shawn Hattingh: Cosatu's role in the context of unrest in the mining http://t.co/46pjzzl6</td>\n",
       "      <td>on fri oct labour analyst shawn hattingh cosatus role in the context of unrest in the mining</td>\n",
       "      <td>neutral</td>\n",
       "    </tr>\n",
       "    <tr>\n",
       "      <th>3</th>\n",
       "      <td>262926411352903682</td>\n",
       "      <td>Kapan sih lo ngebuktiin,jan ngomong doang Susah Susah.usaha Aja blm udh nyerah,inget.if you never try you'll never know.cowok kok gentle bgt</td>\n",
       "      <td>kapan sih lo ngebuktiinjan ngomong doang susah susahusaha aja blm udh nyerahingetif you never try youll never knowcowok kok gentle bgt</td>\n",
       "      <td>negative</td>\n",
       "    </tr>\n",
       "    <tr>\n",
       "      <th>4</th>\n",
       "      <td>171874368908050432</td>\n",
       "      <td>Excuse the connectivity of this live stream, from Baba Amr, so many activists using only one Sat Modem. LIVE http://t.co/U283IhZ5 #Homs</td>\n",
       "      <td>excuse the connectivity of this live stream from baba amr so many activists using only one sat modem live homs</td>\n",
       "      <td>neutral</td>\n",
       "    </tr>\n",
       "  </tbody>\n",
       "</table>\n",
       "</div>"
      ],
      "text/plain": [
       "             tweet_id  \\\n",
       "0  264238274963451904   \n",
       "1  218775148495515649   \n",
       "2  258965201766998017   \n",
       "3  262926411352903682   \n",
       "4  171874368908050432   \n",
       "\n",
       "                                                                                                                                     tweet_text  \\\n",
       "0  @jjuueellzz down in the Atlantic city, ventnor, margate, ocean city area. I'm just waiting for the coordinator to hopefully call me tomorrow   \n",
       "1                                                       Musical awareness: Great Big Beautiful Tomorrow has an ending, Now is the time does not   \n",
       "2  On Radio786 100.4fm 7:10 Fri Oct 19 Labour analyst Shawn Hattingh: Cosatu's role in the context of unrest in the mining http://t.co/46pjzzl6   \n",
       "3  Kapan sih lo ngebuktiin,jan ngomong doang Susah Susah.usaha Aja blm udh nyerah,inget.if you never try you'll never know.cowok kok gentle bgt   \n",
       "4       Excuse the connectivity of this live stream, from Baba Amr, so many activists using only one Sat Modem. LIVE http://t.co/U283IhZ5 #Homs   \n",
       "\n",
       "                                                                                                                              clean_tweet  \\\n",
       "0             down in the atlantic city ventnor margate ocean city area im just waiting for the coordinator to hopefully call me tomorrow   \n",
       "1                                                   musical awareness great big beautiful tomorrow has an ending now is the time does not   \n",
       "2                                            on fri oct labour analyst shawn hattingh cosatus role in the context of unrest in the mining   \n",
       "3  kapan sih lo ngebuktiinjan ngomong doang susah susahusaha aja blm udh nyerahingetif you never try youll never knowcowok kok gentle bgt   \n",
       "4                          excuse the connectivity of this live stream from baba amr so many activists using only one sat modem live homs   \n",
       "\n",
       "  sentiment  \n",
       "0  negative  \n",
       "1  positive  \n",
       "2   neutral  \n",
       "3  negative  \n",
       "4   neutral  "
      ]
     },
     "execution_count": 34,
     "metadata": {},
     "output_type": "execute_result"
    }
   ],
   "source": [
    "test_df['sentiment'] = smote_pipeline.predict(test_df['clean_tweet'])\n",
    "test_df.head()"
   ]
  },
  {
   "cell_type": "code",
   "execution_count": 35,
   "metadata": {},
   "outputs": [],
   "source": [
    "test_df = test_df.drop(['tweet_text', 'clean_tweet'], axis = 1) \n",
    "test_df.to_csv(r'submission.csv', index=None, mode='a')"
   ]
  },
  {
   "cell_type": "markdown",
   "metadata": {},
   "source": [
    "##### We got a mean F-score of .65470 which is slightly better than Random Over Sampler."
   ]
  },
  {
   "cell_type": "markdown",
   "metadata": {},
   "source": [
    "#### Classification using Neural Networks\n",
    "\n",
    "After exploring Logistic Regression which very similar to a single layer neural network now we will move to Neural Networks for our classification. In this section we will use first a simple neural network then move on to more complex ones and networks like LSTMs (Long Short Term Memory) and CNNs-LSTMs combinations we wil discuss about them in detail when we work on them.\n",
    "\n"
   ]
  },
  {
   "cell_type": "markdown",
   "metadata": {},
   "source": [
    "We will start with a simple Neural Network with 128 hidden layers and we will continue to use TFIDFVectorizer."
   ]
  },
  {
   "cell_type": "code",
   "execution_count": 23,
   "metadata": {},
   "outputs": [
    {
     "data": {
      "text/plain": [
       "TfidfVectorizer(max_features=40000, ngram_range=(1, 3))"
      ]
     },
     "execution_count": 23,
     "metadata": {},
     "output_type": "execute_result"
    }
   ],
   "source": [
    "X = train_df.clean_tweet\n",
    "y = train_df.sentiment\n",
    "\n",
    "y = pd.get_dummies(train_df['sentiment']).values\n",
    "\n",
    "X_train, X_val, y_train, y_val = train_test_split(X, y, test_size=0.2, random_state = 42)\n",
    "tf_idf_vec = TfidfVectorizer(stop_words=None, max_features=40000, ngram_range=(1, 3))\n",
    "\n",
    "tf_idf_vec.fit(X_train)"
   ]
  },
  {
   "cell_type": "code",
   "execution_count": 24,
   "metadata": {},
   "outputs": [],
   "source": [
    "x_train_tfidf = tf_idf_vec.transform(X_train)\n",
    "x_validation_tfidf = tf_idf_vec.transform(X_val)"
   ]
  },
  {
   "cell_type": "code",
   "execution_count": 25,
   "metadata": {},
   "outputs": [
    {
     "name": "stdout",
     "output_type": "stream",
     "text": [
      "Model: \"sequential_1\"\n",
      "_________________________________________________________________\n",
      "Layer (type)                 Output Shape              Param #   \n",
      "=================================================================\n",
      "dense_1 (Dense)              (None, 128)               5120128   \n",
      "_________________________________________________________________\n",
      "dropout_1 (Dropout)          (None, 128)               0         \n",
      "_________________________________________________________________\n",
      "dense_2 (Dense)              (None, 3)                 387       \n",
      "=================================================================\n",
      "Total params: 5,120,515\n",
      "Trainable params: 5,120,515\n",
      "Non-trainable params: 0\n",
      "_________________________________________________________________\n",
      "None\n",
      "Train on 17166 samples, validate on 4292 samples\n",
      "Epoch 1/2\n",
      " - 16s - loss: 0.9789 - acc: 0.5444 - val_loss: 0.8690 - val_acc: 0.6130\n",
      "Epoch 2/2\n",
      " - 16s - loss: 0.6946 - acc: 0.7113 - val_loss: 0.8090 - val_acc: 0.6249\n"
     ]
    },
    {
     "data": {
      "text/plain": [
       "<keras.callbacks.callbacks.History at 0x22ab7914288>"
      ]
     },
     "execution_count": 25,
     "metadata": {},
     "output_type": "execute_result"
    }
   ],
   "source": [
    "model = Sequential()\n",
    "model.add(Dense(128, activation='relu', input_dim=40000))\n",
    "model.add(Dropout(0.2))\n",
    "model.add(Dense(3, activation='softmax'))\n",
    "model.compile(loss='categorical_crossentropy', optimizer='adam', metrics=['acc'])\n",
    "\n",
    "print(model.summary())\n",
    "\n",
    "model.fit(x_train_tfidf, y_train, validation_data=(x_validation_tfidf, y_val), epochs=2, batch_size=128, verbose=2)"
   ]
  },
  {
   "cell_type": "code",
   "execution_count": 26,
   "metadata": {},
   "outputs": [
    {
     "name": "stdout",
     "output_type": "stream",
     "text": [
      "Accuracy 0.624883504193849\n",
      "F1-score 0.6405856214487828\n",
      "              precision    recall  f1-score   support\n",
      "\n",
      "           0       0.53      0.21      0.31       642\n",
      "           1       0.60      0.67      0.63      1813\n",
      "           2       0.66      0.72      0.69      1837\n",
      "\n",
      "   micro avg       0.62      0.62      0.62      4292\n",
      "   macro avg       0.60      0.54      0.54      4292\n",
      "weighted avg       0.62      0.62      0.61      4292\n",
      " samples avg       0.62      0.62      0.62      4292\n",
      "\n"
     ]
    },
    {
     "data": {
      "image/png": "[encoded data removed]",
      "text/plain": [
       "<Figure size 288x288 with 1 Axes>"
      ]
     },
     "metadata": {
      "needs_background": "light"
     },
     "output_type": "display_data"
    }
   ],
   "source": [
    "y_pred = model.predict_classes(x_validation_tfidf)\n",
    "y_pred = pd.get_dummies(y_pred).values\n",
    "\n",
    "f1_s = f1_score(y_pred, y_val, average='weighted')\n",
    "print('Accuracy %s' % accuracy_score(y_pred, y_val))\n",
    "print('F1-score %s' % f1_s)\n",
    "print(classification_report(y_val, y_pred))\n",
    "\n",
    "confmat = confusion_matrix(y_val.argmax(axis = 1) , y_pred.argmax(axis = 1))\n",
    "\n",
    "fig, ax = plt.subplots(figsize=(4, 4))\n",
    "ax.matshow(confmat, cmap=plt.cm.Blues, alpha=0.3)\n",
    "for i in range(confmat.shape[0]):\n",
    "    for j in range(confmat.shape[1]):\n",
    "        ax.text(x=j, y=i, s=confmat[i, j], va='center', ha='center')\n",
    "plt.title(\"Neural Network\")\n",
    "plt.xlabel('Predicted label')\n",
    "plt.ylabel('True label')\n",
    "plt.tight_layout()"
   ]
  },
  {
   "cell_type": "markdown",
   "metadata": {},
   "source": [
    "We got a F1-score of 0.6405 which is better than our SMOTE Model, lets see how it perform on test data."
   ]
  },
  {
   "cell_type": "code",
   "execution_count": 150,
   "metadata": {},
   "outputs": [
    {
     "data": {
      "text/plain": [
       "array([1, 2, 1, ..., 1, 2, 2], dtype=int64)"
      ]
     },
     "execution_count": 150,
     "metadata": {},
     "output_type": "execute_result"
    }
   ],
   "source": [
    "y_test_pred = model.predict_classes(tf_idf_vec.transform(test_df['clean_tweet']))\n",
    "y_test_pred"
   ]
  },
  {
   "cell_type": "code",
   "execution_count": 151,
   "metadata": {},
   "outputs": [],
   "source": [
    "sent_list = []\n",
    "for i in y_test_pred:\n",
    "    if i == 0:\n",
    "        sent_list.append(\"negative\")\n",
    "    elif i == 1:\n",
    "        sent_list.append(\"neutral\")\n",
    "    else:\n",
    "        sent_list.append(\"positive\")\n",
    "        \n",
    "test_df['sentiment'] = sent_list "
   ]
  },
  {
   "cell_type": "code",
   "execution_count": 156,
   "metadata": {},
   "outputs": [
    {
     "name": "stdout",
     "output_type": "stream",
     "text": [
      "<class 'pandas.core.frame.DataFrame'>\n",
      "RangeIndex: 5398 entries, 0 to 5397\n",
      "Data columns (total 2 columns):\n",
      " #   Column     Non-Null Count  Dtype \n",
      "---  ------     --------------  ----- \n",
      " 0   tweet_id   5398 non-null   int64 \n",
      " 1   sentiment  5398 non-null   object\n",
      "dtypes: int64(1), object(1)\n",
      "memory usage: 84.5+ KB\n"
     ]
    }
   ],
   "source": [
    "test_df.head()\n",
    "test_df.info()"
   ]
  },
  {
   "cell_type": "code",
   "execution_count": 157,
   "metadata": {},
   "outputs": [],
   "source": [
    "test_df = test_df.drop(['tweet_text', 'clean_tweet'], axis = 1) \n",
    "test_df.to_csv(r'submission.csv', index=None, mode='a')"
   ]
  },
  {
   "cell_type": "markdown",
   "metadata": {},
   "source": [
    "##### We got a mean F-score of .64636 which is lower than the LogisticRegression with SMOTE model."
   ]
  },
  {
   "cell_type": "markdown",
   "metadata": {},
   "source": [
    "#### LSTM Networks\n",
    "\n",
    "Long Short Term Memory networks – usually just called “LSTMs” – are a special kind of RNN, capable of learning long-term dependencies. They were introduced by Hochreiter & Schmidhuber (1997), and were refined and popularized by many people in following work. They work tremendously well on a large variety of problems, and are now widely used.\n",
    "\n",
    "LSTMs are explicitly designed to avoid the long-term dependency problem. Remembering information for long periods of time is practically their default behavior, not something they struggle to learn!\n",
    "\n",
    "All recurrent neural networks have the form of a chain of repeating modules of neural network. In standard RNNs, this repeating module will have a very simple structure, such as a single tanh layer.\n",
    "\n",
    "<img src=\"https://colah.github.io/posts/2015-08-Understanding-LSTMs/img/LSTM3-SimpleRNN.png\" width= 500>"
   ]
  },
  {
   "cell_type": "markdown",
   "metadata": {},
   "source": [
    "We will create a neural network with single layer of 128 LSTM cells and see how it performs. We will add an Embedding Layer with 40000 features."
   ]
  },
  {
   "cell_type": "code",
   "execution_count": 27,
   "metadata": {},
   "outputs": [],
   "source": [
    "from keras.preprocessing.text import Tokenizer\n",
    "\n",
    "X = train_df.clean_tweet\n",
    "\n",
    "y = pd.get_dummies(train_df['sentiment']).values\n",
    "\n",
    "X_train, X_val, y_train, y_val = train_test_split(X, y, test_size=0.2, random_state = 42)\n",
    "\n",
    "max_features = 40000\n",
    "tokenizer = Tokenizer(num_words=max_features)\n",
    "tokenizer.fit_on_texts(list(X_train))\n",
    "X_train = tokenizer.texts_to_sequences(X_train)\n",
    "X_val = tokenizer.texts_to_sequences(X_val)\n",
    "\n",
    "from keras.preprocessing import sequence\n",
    "max_words = 140\n",
    "X_train = sequence.pad_sequences(X_train, maxlen=max_words)\n",
    "X_val = sequence.pad_sequences(X_val, maxlen=max_words)"
   ]
  },
  {
   "cell_type": "code",
   "execution_count": 28,
   "metadata": {},
   "outputs": [
    {
     "name": "stdout",
     "output_type": "stream",
     "text": [
      "Model: \"sequential_2\"\n",
      "_________________________________________________________________\n",
      "Layer (type)                 Output Shape              Param #   \n",
      "=================================================================\n",
      "embedding_1 (Embedding)      (None, 140, 140)          5600000   \n",
      "_________________________________________________________________\n",
      "lstm_1 (LSTM)                (None, 128)               137728    \n",
      "_________________________________________________________________\n",
      "dense_3 (Dense)              (None, 3)                 387       \n",
      "=================================================================\n",
      "Total params: 5,738,115\n",
      "Trainable params: 5,738,115\n",
      "Non-trainable params: 0\n",
      "_________________________________________________________________\n",
      "None\n",
      "Train on 17166 samples, validate on 4292 samples\n",
      "Epoch 1/2\n",
      " - 72s - loss: 0.9557 - acc: 0.5137 - val_loss: 0.8355 - val_acc: 0.6125\n",
      "Epoch 2/2\n",
      " - 75s - loss: 0.6715 - acc: 0.7138 - val_loss: 0.8303 - val_acc: 0.6207\n"
     ]
    },
    {
     "data": {
      "text/plain": [
       "<keras.callbacks.callbacks.History at 0x22aba04de48>"
      ]
     },
     "execution_count": 28,
     "metadata": {},
     "output_type": "execute_result"
    }
   ],
   "source": [
    "model = Sequential()\n",
    "model.add(Embedding(max_features, max_words, input_length=X_train.shape[1]))\n",
    "model.add(LSTM(128, dropout=0.3, recurrent_dropout=0.3))\n",
    "model.add(Dense(3, activation='softmax'))\n",
    "model.compile(loss='categorical_crossentropy', optimizer='adam', metrics=['acc'])\n",
    "\n",
    "print(model.summary())\n",
    "\n",
    "model.fit(X_train, y_train, validation_data=(X_val, y_val), epochs=2, batch_size=128, verbose=2)"
   ]
  },
  {
   "cell_type": "code",
   "execution_count": 29,
   "metadata": {},
   "outputs": [
    {
     "name": "stdout",
     "output_type": "stream",
     "text": [
      "Accuracy 0.6206896551724138\n",
      "F1-score 0.6177379746056479\n",
      "              precision    recall  f1-score   support\n",
      "\n",
      "           0       0.46      0.37      0.41       642\n",
      "           1       0.60      0.65      0.63      1813\n",
      "           2       0.69      0.68      0.68      1837\n",
      "\n",
      "    accuracy                           0.62      4292\n",
      "   macro avg       0.58      0.57      0.57      4292\n",
      "weighted avg       0.62      0.62      0.62      4292\n",
      "\n"
     ]
    },
    {
     "data": {
      "image/png": "[encoded data removed]",
      "text/plain": [
       "<Figure size 288x288 with 1 Axes>"
      ]
     },
     "metadata": {
      "needs_background": "light"
     },
     "output_type": "display_data"
    }
   ],
   "source": [
    "y_pred = model.predict_classes(X_val)\n",
    "\n",
    "f1_s = f1_score(np.argmax(y_val, axis = 1), y_pred, average='weighted')\n",
    "print('Accuracy %s' % accuracy_score(y_pred, np.argmax(y_val, axis = 1)))\n",
    "print('F1-score %s' % f1_s)\n",
    "print(classification_report(np.argmax(y_val, axis = 1), y_pred))\n",
    "\n",
    "confmat = confusion_matrix(y_val.argmax(axis = 1) , y_pred)\n",
    "\n",
    "fig, ax = plt.subplots(figsize=(4, 4))\n",
    "ax.matshow(confmat, cmap=plt.cm.Blues, alpha=0.3)\n",
    "for i in range(confmat.shape[0]):\n",
    "    for j in range(confmat.shape[1]):\n",
    "        ax.text(x=j, y=i, s=confmat[i, j], va='center', ha='center')\n",
    "plt.title(\"LSTM Network\")\n",
    "plt.xlabel('Predicted label')\n",
    "plt.ylabel('True label')\n",
    "plt.tight_layout()"
   ]
  },
  {
   "cell_type": "markdown",
   "metadata": {},
   "source": [
    "We got a F1-score of 0.6177 which is lower than our single hidden layer Model, lets see how it perform on test data."
   ]
  },
  {
   "cell_type": "code",
   "execution_count": 154,
   "metadata": {},
   "outputs": [
    {
     "data": {
      "text/plain": [
       "array([2, 2, 1, ..., 1, 2, 2], dtype=int64)"
      ]
     },
     "execution_count": 154,
     "metadata": {},
     "output_type": "execute_result"
    }
   ],
   "source": [
    "y_test_pred = model.predict_classes(sequence.pad_sequences(tokenizer.texts_to_sequences(test_df['clean_tweet']), maxlen=max_words))\n",
    "y_test_pred"
   ]
  },
  {
   "cell_type": "code",
   "execution_count": 71,
   "metadata": {},
   "outputs": [],
   "source": [
    "sent_list = []\n",
    "for i in y_test_pred:\n",
    "    if i == 0:\n",
    "        sent_list.append(\"negative\")\n",
    "    elif i == 1:\n",
    "        sent_list.append(\"neutral\")\n",
    "    else:\n",
    "        sent_list.append(\"positive\")\n",
    "        \n",
    "test_df['sentiment'] = sent_list "
   ]
  },
  {
   "cell_type": "code",
   "execution_count": 72,
   "metadata": {},
   "outputs": [],
   "source": [
    "test_df = test_df.drop(['tweet_text', 'clean_tweet'], axis = 1) \n",
    "test_df.to_csv(r'submission.csv', index=None, mode='a')"
   ]
  },
  {
   "cell_type": "markdown",
   "metadata": {},
   "source": [
    "##### We got a mean F-score of .64080 which is higher than the simple dense layer neural network model."
   ]
  },
  {
   "cell_type": "markdown",
   "metadata": {},
   "source": [
    "#### CNN-LSTM Model\n",
    "\n",
    "Convolutional Neural Networks (CNN)\n",
    "CNNs are mainly used in the world of Computer Vision but in many papers [Kim Y. Convolutional Neural Networks for Sentence Classification. 2014] we get to know that they show promising results in NLP also. THe very intuition behind CNN is to extract patterns in small group of data here in NLP we can think this like small phrases (\"I like this\"), (\"Its bad\"), etc. We can stack multiple CNN layers each with different kernel size (2, 3, 4, 5) referring to 2 words phrases, 3 word phrases and so on. Following figure very clearly depicts the intuition behind the use of CNN in text classification. We mostly use the Convolutional layer to extract local feature.\n",
    "\n",
    "<img src=\"https://miro.medium.com/max/700/0*0efgxnFIaLTZ2qkY\" width= 500>\n",
    "<center>Zhang, Y., & Wallace, B. (2015) 'A Sensitivity Analysis of (and Practitioners’ Guide to) Convolutional Neural Networks for Sentence Classification'</center>\n",
    "<br>\n",
    "A combination of CNN and LSTM works good because CNN helps to extract local feature and LSTMs are good for Long term dependency of data.\n",
    "For our model we are using 4 Convolutional Layer each with 128 filters and kernel size of [2,3,4,5]. We also add an max pool layer with pool size 2 after each convlutional layer and then we add a LSTM layer with 264 units with dropout of value 0.2 and also a recurrent dropout of 0.2 to lower overfitting and make the model better generalize on the data."
   ]
  },
  {
   "cell_type": "code",
   "execution_count": 31,
   "metadata": {},
   "outputs": [
    {
     "name": "stdout",
     "output_type": "stream",
     "text": [
      "Model: \"sequential_4\"\n",
      "_________________________________________________________________\n",
      "Layer (type)                 Output Shape              Param #   \n",
      "=================================================================\n",
      "embedding_3 (Embedding)      (None, 140, 140)          5600000   \n",
      "_________________________________________________________________\n",
      "conv1d_5 (Conv1D)            (None, 140, 128)          35968     \n",
      "_________________________________________________________________\n",
      "max_pooling1d_5 (MaxPooling1 (None, 70, 128)           0         \n",
      "_________________________________________________________________\n",
      "conv1d_6 (Conv1D)            (None, 70, 128)           49280     \n",
      "_________________________________________________________________\n",
      "max_pooling1d_6 (MaxPooling1 (None, 35, 128)           0         \n",
      "_________________________________________________________________\n",
      "conv1d_7 (Conv1D)            (None, 35, 128)           65664     \n",
      "_________________________________________________________________\n",
      "max_pooling1d_7 (MaxPooling1 (None, 17, 128)           0         \n",
      "_________________________________________________________________\n",
      "conv1d_8 (Conv1D)            (None, 17, 128)           82048     \n",
      "_________________________________________________________________\n",
      "max_pooling1d_8 (MaxPooling1 (None, 8, 128)            0         \n",
      "_________________________________________________________________\n",
      "lstm_3 (LSTM)                (None, 128)               131584    \n",
      "_________________________________________________________________\n",
      "dense_5 (Dense)              (None, 3)                 387       \n",
      "=================================================================\n",
      "Total params: 5,964,931\n",
      "Trainable params: 5,964,931\n",
      "Non-trainable params: 0\n",
      "_________________________________________________________________\n",
      "None\n",
      "Train on 17166 samples, validate on 4292 samples\n",
      "Epoch 1/2\n",
      " - 36s - loss: 0.9890 - acc: 0.4669 - val_loss: 0.8920 - val_acc: 0.5820\n",
      "Epoch 2/2\n",
      " - 38s - loss: 0.7728 - acc: 0.6484 - val_loss: 0.8365 - val_acc: 0.6251\n"
     ]
    },
    {
     "data": {
      "text/plain": [
       "<keras.callbacks.callbacks.History at 0x22acd769688>"
      ]
     },
     "execution_count": 31,
     "metadata": {},
     "output_type": "execute_result"
    }
   ],
   "source": [
    "model = Sequential()\n",
    "model.add(Embedding(max_features, max_words, input_length=X_train.shape[1]))\n",
    "model.add(Conv1D(filters=128, kernel_size=2, padding='same', activation='relu'))\n",
    "model.add(MaxPooling1D(pool_size=2)) \n",
    "model.add(Conv1D(filters=128, kernel_size=3, padding='same', activation='relu'))\n",
    "model.add(MaxPooling1D(pool_size=2)) \n",
    "model.add(Conv1D(filters=128, kernel_size=4, padding='same', activation='relu'))\n",
    "model.add(MaxPooling1D(pool_size=2)) \n",
    "model.add(Conv1D(filters=128, kernel_size=5, padding='same', activation='relu'))\n",
    "model.add(MaxPooling1D(pool_size=2)) \n",
    "model.add(LSTM(128, dropout=0.2, recurrent_dropout=0.2))\n",
    "model.add(Dense(3, activation='softmax'))\n",
    "model.compile(loss='categorical_crossentropy', optimizer='adam', metrics=['acc'])\n",
    "\n",
    "print(model.summary())\n",
    "\n",
    "model.fit(X_train, y_train, validation_data=(X_val, y_val), epochs=2, batch_size=128, verbose=2)"
   ]
  },
  {
   "cell_type": "code",
   "execution_count": 32,
   "metadata": {},
   "outputs": [
    {
     "name": "stdout",
     "output_type": "stream",
     "text": [
      "Accuracy 0.625116495806151\n",
      "F1-score 0.6222661865588629\n",
      "              precision    recall  f1-score   support\n",
      "\n",
      "           0       0.47      0.40      0.43       642\n",
      "           1       0.61      0.62      0.61      1813\n",
      "           2       0.69      0.71      0.70      1837\n",
      "\n",
      "    accuracy                           0.63      4292\n",
      "   macro avg       0.59      0.58      0.58      4292\n",
      "weighted avg       0.62      0.63      0.62      4292\n",
      "\n"
     ]
    },
    {
     "data": {
      "image/png": "[encoded data removed]",
      "text/plain": [
       "<Figure size 288x288 with 1 Axes>"
      ]
     },
     "metadata": {
      "needs_background": "light"
     },
     "output_type": "display_data"
    }
   ],
   "source": [
    "y_pred = model.predict_classes(X_val)\n",
    "\n",
    "f1_s = f1_score(np.argmax(y_val, axis = 1), y_pred, average='weighted')\n",
    "print('Accuracy %s' % accuracy_score(y_pred, np.argmax(y_val, axis = 1)))\n",
    "print('F1-score %s' % f1_s)\n",
    "print(classification_report(np.argmax(y_val, axis = 1), y_pred))\n",
    "\n",
    "confmat = confusion_matrix(y_val.argmax(axis = 1) , y_pred)\n",
    "\n",
    "fig, ax = plt.subplots(figsize=(4, 4))\n",
    "ax.matshow(confmat, cmap=plt.cm.Blues, alpha=0.3)\n",
    "for i in range(confmat.shape[0]):\n",
    "    for j in range(confmat.shape[1]):\n",
    "        ax.text(x=j, y=i, s=confmat[i, j], va='center', ha='center')\n",
    "plt.title(\"CNN-LSTM Network\")\n",
    "plt.xlabel('Predicted label')\n",
    "plt.ylabel('True label')\n",
    "plt.tight_layout()"
   ]
  },
  {
   "cell_type": "code",
   "execution_count": 150,
   "metadata": {},
   "outputs": [
    {
     "data": {
      "text/plain": [
       "array([2, 2, 1, ..., 1, 2, 2], dtype=int64)"
      ]
     },
     "execution_count": 150,
     "metadata": {},
     "output_type": "execute_result"
    }
   ],
   "source": [
    "y_test_pred = model.predict_classes(sequence.pad_sequences(tokenizer.texts_to_sequences(test_df['clean_tweet']), maxlen=max_words))\n",
    "y_test_pred"
   ]
  },
  {
   "cell_type": "code",
   "execution_count": 103,
   "metadata": {},
   "outputs": [],
   "source": [
    "sent_list = []\n",
    "for i in y_test_pred:\n",
    "    if i == 0:\n",
    "        sent_list.append(\"negative\")\n",
    "    elif i == 1:\n",
    "        sent_list.append(\"neutral\")\n",
    "    else:\n",
    "        sent_list.append(\"positive\")\n",
    "        \n",
    "test_df['sentiment'] = sent_list "
   ]
  },
  {
   "cell_type": "code",
   "execution_count": 104,
   "metadata": {},
   "outputs": [],
   "source": [
    "test_df = test_df.drop(['tweet_text', 'clean_tweet'], axis = 1) \n",
    "test_df.to_csv(r'submission.csv', index=None, mode='a')"
   ]
  },
  {
   "cell_type": "markdown",
   "metadata": {},
   "source": [
    "##### We got a mean F-score of .66859 on test data which is best score till now."
   ]
  },
  {
   "cell_type": "markdown",
   "metadata": {},
   "source": [
    "#### Comparison of Models explored in this notebook."
   ]
  },
  {
   "cell_type": "code",
   "execution_count": 33,
   "metadata": {},
   "outputs": [
    {
     "data": {
      "text/html": [
       "<div>\n",
       "<style scoped>\n",
       "    .dataframe tbody tr th:only-of-type {\n",
       "        vertical-align: middle;\n",
       "    }\n",
       "\n",
       "    .dataframe tbody tr th {\n",
       "        vertical-align: top;\n",
       "    }\n",
       "\n",
       "    .dataframe thead th {\n",
       "        text-align: right;\n",
       "    }\n",
       "</style>\n",
       "<table border=\"1\" class=\"dataframe\">\n",
       "  <thead>\n",
       "    <tr style=\"text-align: right;\">\n",
       "      <th></th>\n",
       "      <th>Model</th>\n",
       "      <th>Mean F-Score</th>\n",
       "    </tr>\n",
       "  </thead>\n",
       "  <tbody>\n",
       "    <tr>\n",
       "      <th>0</th>\n",
       "      <td>TextBlob (Baseline)</td>\n",
       "      <td>0.55210</td>\n",
       "    </tr>\n",
       "    <tr>\n",
       "      <th>1</th>\n",
       "      <td>LogisticRegression</td>\n",
       "      <td>0.65076</td>\n",
       "    </tr>\n",
       "    <tr>\n",
       "      <th>2</th>\n",
       "      <td>Logistic Regression with Random Over Sampler</td>\n",
       "      <td>0.65145</td>\n",
       "    </tr>\n",
       "    <tr>\n",
       "      <th>3</th>\n",
       "      <td>Logistic Regression with SMOTE</td>\n",
       "      <td>0.65470</td>\n",
       "    </tr>\n",
       "    <tr>\n",
       "      <th>4</th>\n",
       "      <td>Simple Dense Neural Network with TFIDF Vectors</td>\n",
       "      <td>0.63436</td>\n",
       "    </tr>\n",
       "    <tr>\n",
       "      <th>5</th>\n",
       "      <td>LSTM</td>\n",
       "      <td>0.64080</td>\n",
       "    </tr>\n",
       "    <tr>\n",
       "      <th>6</th>\n",
       "      <td>CNN-LSTM</td>\n",
       "      <td>0.66859</td>\n",
       "    </tr>\n",
       "  </tbody>\n",
       "</table>\n",
       "</div>"
      ],
      "text/plain": [
       "                                            Model  Mean F-Score\n",
       "0                             TextBlob (Baseline)       0.55210\n",
       "1                              LogisticRegression       0.65076\n",
       "2    Logistic Regression with Random Over Sampler       0.65145\n",
       "3                  Logistic Regression with SMOTE       0.65470\n",
       "4  Simple Dense Neural Network with TFIDF Vectors       0.63436\n",
       "5                                            LSTM       0.64080\n",
       "6                                        CNN-LSTM       0.66859"
      ]
     },
     "execution_count": 33,
     "metadata": {},
     "output_type": "execute_result"
    }
   ],
   "source": [
    "methods_list = ['TextBlob (Baseline)', 'LogisticRegression', 'Logistic Regression with Random Over Sampler', 'Logistic Regression with SMOTE', 'Simple Dense Neural Network with TFIDF Vectors', 'LSTM', 'CNN-LSTM']\n",
    "mean_f_scores = [0.55210, 0.65076, 0.65145, 0.65470, 0.63436, 0.64080, 0.66859]\n",
    "\n",
    "comp_df = pd.DataFrame(list(zip(methods_list, mean_f_scores)), columns =['Model', 'Mean F-Score']) \n",
    "pd.set_option('display.max_colwidth', None)\n",
    "comp_df"
   ]
  },
  {
   "cell_type": "code",
   "execution_count": null,
   "metadata": {},
   "outputs": [],
   "source": []
  }
 ],
 "metadata": {
  "kernelspec": {
   "display_name": "Python 3",
   "language": "python",
   "name": "python3"
  },
  "language_info": {
   "codemirror_mode": {
    "name": "ipython",
    "version": 3
   },
   "file_extension": ".py",
   "mimetype": "text/x-python",
   "name": "python",
   "nbconvert_exporter": "python",
   "pygments_lexer": "ipython3",
   "version": "3.7.6"
  }
 },
 "nbformat": 4,
 "nbformat_minor": 4
}
